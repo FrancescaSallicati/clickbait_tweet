{
 "cells": [
  {
   "cell_type": "markdown",
   "id": "eca14a38-067d-4574-8eb5-275e9edae829",
   "metadata": {},
   "source": [
    "# Imports"
   ]
  },
  {
   "cell_type": "code",
   "execution_count": 1,
   "id": "f90807f4-14db-4740-b19c-1a359804ae74",
   "metadata": {},
   "outputs": [],
   "source": [
    "import pandas as pd\n",
    "import numpy as np\n",
    "import timeit\n",
    "import os\n",
    "import sys\n",
    "import os\n",
    "import json\n",
    "sys.path.append(\"..\")\n",
    "\n",
    "import tensorflow as tf\n",
    "from tensorflow.keras.preprocessing.text import Tokenizer\n",
    "from tensorflow.keras.preprocessing.sequence import pad_sequences\n",
    "from tensorflow.keras import Sequential\n",
    "from tensorflow.keras.models import Model\n",
    "from tensorflow.keras import callbacks\n",
    "from tensorflow.keras.layers import *\n",
    "from sklearn.metrics import classification_report\n",
    "from sklearn.metrics import confusion_matrix, ConfusionMatrixDisplay\n",
    "from sklearn.utils import class_weight,compute_class_weight\n",
    "import matplotlib.pyplot as plt\n",
    "import fasttext\n",
    "\n",
    "from src.utils import write_metrics\n",
    "from src.preprocessing import deep_clean_tweet, clean_tweet_for_transformers\n",
    "from src.utils import read_data\n",
    "from src.utils import plot_result\n",
    "from src.utils import train_model, evaluate_model\n",
    "from src.utils import compute_metrics\n",
    "from src.utils import set_seed\n",
    "#set_seed(20042022)\n"
   ]
  },
  {
   "cell_type": "markdown",
   "id": "1895e8ac-28c2-4ae5-96ff-197967520aec",
   "metadata": {},
   "source": [
    "# Load Training Dataset"
   ]
  },
  {
   "cell_type": "code",
   "execution_count": 2,
   "id": "cc56b226-b849-4995-86ee-0cb77d652cbf",
   "metadata": {
    "colab": {
     "base_uri": "https://localhost:8080/",
     "height": 1000
    },
    "executionInfo": {
     "elapsed": 4128,
     "status": "ok",
     "timestamp": 1650611165000,
     "user": {
      "displayName": "Francesca Sallicati",
      "userId": "05696714463884583021"
     },
     "user_tz": -120
    },
    "id": "bseCIdNI-8P6",
    "outputId": "50b0a12d-cf23-4640-9986-b9536a5d3cf9"
   },
   "outputs": [],
   "source": [
    "#Load trainig dataset\n",
    "filename = '../data/webis_train.csv'\n",
    "train_df = read_data(filename)"
   ]
  },
  {
   "cell_type": "markdown",
   "id": "efed101b-944a-4ce8-bb57-ec8fa5dfce01",
   "metadata": {},
   "source": [
    "# Cleaning Tweets"
   ]
  },
  {
   "cell_type": "code",
   "execution_count": 3,
   "id": "e441c5d8-6100-4d23-bd67-02c769a6a813",
   "metadata": {
    "colab": {
     "base_uri": "https://localhost:8080/",
     "height": 1000
    },
    "executionInfo": {
     "elapsed": 13898,
     "status": "ok",
     "timestamp": 1650611186855,
     "user": {
      "displayName": "Francesca Sallicati",
      "userId": "05696714463884583021"
     },
     "user_tz": -120
    },
    "id": "nDCIci2PCDvn",
    "outputId": "43545ed5-0b56-4b4b-9ecd-c84d0feacfd6",
    "tags": []
   },
   "outputs": [],
   "source": [
    "#Apply cleaning funcitons to tweets\n",
    "train_df['cleanedText'] = train_df.postText.apply(lambda x: deep_clean_tweet(x))\n",
    "##Make sure that no empty string remains in 'cleanedText'\n",
    "train_df  = train_df.loc[train_df.cleanedText != '']"
   ]
  },
  {
   "cell_type": "markdown",
   "id": "86626c7b-823c-43c9-bc96-8833563adde4",
   "metadata": {},
   "source": [
    "## Plot cleaned tweet lenght distribution"
   ]
  },
  {
   "cell_type": "code",
   "execution_count": 4,
   "id": "b16de351-65a5-4b91-ab00-74424be0493e",
   "metadata": {
    "colab": {
     "base_uri": "https://localhost:8080/",
     "height": 459
    },
    "executionInfo": {
     "elapsed": 1853,
     "status": "ok",
     "timestamp": 1650611188691,
     "user": {
      "displayName": "Francesca Sallicati",
      "userId": "05696714463884583021"
     },
     "user_tz": -120
    },
    "id": "CezsgjO9CDvo",
    "outputId": "84c5a767-3476-4a40-d86b-cf36fc514927"
   },
   "outputs": [
    {
     "name": "stdout",
     "output_type": "stream",
     "text": [
      "12.0\n"
     ]
    },
    {
     "data": {
      "image/png": "[encoded data removed]",
      "text/plain": [
       "<Figure size 504x504 with 1 Axes>"
      ]
     },
     "metadata": {
      "needs_background": "light"
     },
     "output_type": "display_data"
    }
   ],
   "source": [
    "lenghts =  [len(x) for x in train_df['cleanedText'].str.split()]\n",
    "percentile = np.percentile(lenghts,95)\n",
    "print(percentile)\n",
    "\n",
    "# Plot histogram of tweets lenght distribution in order to define the max_len parameter for the model\n",
    "plt.figure(figsize=(7, 7))\n",
    "plt.hist(lenghts, bins=25)\n",
    "plt.xlabel('Number of tokens in cleaned tweets')\n",
    "plt.ylabel('Count')\n",
    "plt.show()"
   ]
  },
  {
   "cell_type": "markdown",
   "id": "8a4047fe-3dec-40f9-813f-db08299c9563",
   "metadata": {},
   "source": [
    "# Vocabulary and Feature Extraction"
   ]
  },
  {
   "cell_type": "code",
   "execution_count": 5,
   "id": "1a8a12d8-49f3-46c3-baa6-37818f5d76d7",
   "metadata": {},
   "outputs": [
    {
     "name": "stdout",
     "output_type": "stream",
     "text": [
      "8376\n"
     ]
    }
   ],
   "source": [
    "max_seq_len = 20\n",
    "\n",
    "#preparing a tokenizer for segments on training data \n",
    "x_tokenizer = Tokenizer(oov_token = 'UNK')\n",
    "x_tokenizer.fit_on_texts(train_df[\"cleanedText\"].values)\n",
    "\n",
    "#filter x_tokenizer by deleting items based on word counts\n",
    "low_count_words = [w for w,c in x_tokenizer.word_counts.items() if c < 3]\n",
    "for w in low_count_words:\n",
    "    del x_tokenizer.word_index[w]\n",
    "    del x_tokenizer.word_docs[w]\n",
    "    del x_tokenizer.word_counts[w]    \n",
    "\n",
    "#Apply tokenizer to the sets\n",
    "X_tr = x_tokenizer.texts_to_sequences(train_df[\"cleanedText\"].values) \n",
    "\n",
    "#Set token for padding sequences\n",
    "x_tokenizer.word_index['PAD'] = 0\n",
    "x_tokenizer.index_word[0] = 'PAD'\n",
    "\n",
    "print(len(x_tokenizer.word_index))\n",
    "X_train = pad_sequences(maxlen=max_seq_len, sequences=X_tr, padding='post', truncating = 'post', value=x_tokenizer.word_index['PAD'])"
   ]
  },
  {
   "cell_type": "markdown",
   "id": "e66e4c1d-840c-42c3-91dd-cdfb4ca57c1d",
   "metadata": {},
   "source": [
    "## Compute Class Weights"
   ]
  },
  {
   "cell_type": "code",
   "execution_count": 6,
   "id": "7829217f-7b9f-4f1c-9408-b51359f0120f",
   "metadata": {
    "id": "ezSqxLkJCDvq"
   },
   "outputs": [
    {
     "name": "stdout",
     "output_type": "stream",
     "text": [
      "{0: 0.6593648429035753, 1: 2.0687274272360314}\n"
     ]
    }
   ],
   "source": [
    "##Calculate class_weights to attenuate the unbalanced classification problem \n",
    "y_train = train_df.truthClass.values\n",
    "class_weights = compute_class_weight(\n",
    "                                        class_weight = \"balanced\",\n",
    "                                        classes = ['no-clickbait', 'clickbait'],\n",
    "                                        y = y_train                                                   \n",
    "                                    )\n",
    "\n",
    "class_weights = dict(zip([0,1], class_weights))\n",
    "print(class_weights)"
   ]
  },
  {
   "cell_type": "markdown",
   "id": "788d3480-d9d2-4ef8-9c68-3c7b875f7fa4",
   "metadata": {},
   "source": [
    "## Import fastText pretrained embeddings"
   ]
  },
  {
   "cell_type": "code",
   "execution_count": 7,
   "id": "dc597c9c-fb4b-42b4-92a1-723e65dc2759",
   "metadata": {},
   "outputs": [
    {
     "name": "stderr",
     "output_type": "stream",
     "text": [
      "Warning : `load_model` does not return WordVectorModel or SupervisedModel any more, but a `FastText` object which is very similar.\n"
     ]
    }
   ],
   "source": [
    "#to download the embeddings run:\n",
    "#fasttext.util.download_model('en', if_exists='ignore')  # English\n",
    "#store them in data/embeddings to make the code work\n",
    "\n",
    "ft = fasttext.load_model('../data/embeddings/cc.en.300.bin')"
   ]
  },
  {
   "cell_type": "markdown",
   "id": "6a3cd268-0a7a-47cf-bd8e-bf72ab794fcd",
   "metadata": {},
   "source": [
    "## Build Embeddings weights matrix"
   ]
  },
  {
   "cell_type": "code",
   "execution_count": 8,
   "id": "7622b259-fc91-45c2-b8b9-f7ca413dae34",
   "metadata": {},
   "outputs": [
    {
     "name": "stdout",
     "output_type": "stream",
     "text": [
      "(8376, 300)\n"
     ]
    }
   ],
   "source": [
    " #Build embedding matrix for our vocabulary\n",
    "embedding_matrix = np.zeros((len(x_tokenizer.word_index), 300))\n",
    "\n",
    "##set trained embeddings to a matrix\n",
    "for j, dict_word in enumerate(x_tokenizer.word_index.keys()):\n",
    "    if dict_word != 'UNK' and dict_word != 'PAD':\n",
    "        \n",
    "        embedding_matrix[j] = ft.get_word_vector(dict_word)\n",
    "        \n",
    "print(embedding_matrix.shape)\n",
    "#to save the embeddings matrix\n",
    "#np.save('../data/embeddings/embeddings_matrix.npy', embedding_matrix)"
   ]
  },
  {
   "cell_type": "markdown",
   "id": "1237383d-f56d-4dc0-ad85-9acb6113cc91",
   "metadata": {},
   "source": [
    "# GRU model"
   ]
  },
  {
   "cell_type": "markdown",
   "id": "3dd50194-b8c0-4aa9-b39b-4af67c9e4956",
   "metadata": {},
   "source": [
    "### Training"
   ]
  },
  {
   "cell_type": "code",
   "execution_count": 9,
   "id": "7f39bd14-f475-4b32-b9c5-88607775701b",
   "metadata": {},
   "outputs": [],
   "source": [
    "embedding_dim = 300\n",
    "\n",
    "def GRU_model(gru_units, dropout_rate, embedding_matrix):\n",
    "    \n",
    "    model = Sequential()\n",
    "    inputs = Input(shape=(max_seq_len), name='inputs')\n",
    "    emb = Embedding(input_dim=len(x_tokenizer.word_index), output_dim=embedding_dim,weights=[embedding_matrix],input_length=max_seq_len, trainable = True)(inputs)\n",
    "    lstm = GRU(gru_units, return_sequences=True)(emb)\n",
    "    gmp = GlobalMaxPooling1D()(lstm)\n",
    "    drop = Dropout(dropout_rate)(gmp)\n",
    "    output = Dense(1, activation='sigmoid')(drop)\n",
    "    model = Model(inputs, output, name='lstm_model')\n",
    "    model.summary()\n",
    "\n",
    "    return model"
   ]
  },
  {
   "cell_type": "code",
   "execution_count": 10,
   "id": "594efc04-c274-4f68-b95b-b897e63a5da8",
   "metadata": {},
   "outputs": [
    {
     "name": "stdout",
     "output_type": "stream",
     "text": [
      "Model: \"lstm_model\"\n",
      "_________________________________________________________________\n",
      "Layer (type)                 Output Shape              Param #   \n",
      "=================================================================\n",
      "inputs (InputLayer)          [(None, 20)]              0         \n",
      "_________________________________________________________________\n",
      "embedding (Embedding)        (None, 20, 300)           2512800   \n",
      "_________________________________________________________________\n",
      "gru (GRU)                    (None, 20, 512)           1250304   \n",
      "_________________________________________________________________\n",
      "global_max_pooling1d (Global (None, 512)               0         \n",
      "_________________________________________________________________\n",
      "dropout (Dropout)            (None, 512)               0         \n",
      "_________________________________________________________________\n",
      "dense (Dense)                (None, 1)                 513       \n",
      "=================================================================\n",
      "Total params: 3,763,617\n",
      "Trainable params: 3,763,617\n",
      "Non-trainable params: 0\n",
      "_________________________________________________________________\n",
      "Epoch 1/100\n",
      "122/122 [==============================] - 2s 20ms/step - loss: 0.5368 - accuracy: 0.7576 - val_loss: 0.4829 - val_accuracy: 0.7754\n",
      "Epoch 2/100\n",
      "122/122 [==============================] - 2s 17ms/step - loss: 0.4204 - accuracy: 0.8174 - val_loss: 0.4188 - val_accuracy: 0.8216\n",
      "Epoch 3/100\n",
      "122/122 [==============================] - 2s 16ms/step - loss: 0.3516 - accuracy: 0.8509 - val_loss: 0.3874 - val_accuracy: 0.8339\n",
      "Epoch 4/100\n",
      "122/122 [==============================] - 2s 17ms/step - loss: 0.3035 - accuracy: 0.8722 - val_loss: 0.4077 - val_accuracy: 0.8285\n",
      "Epoch 5/100\n",
      "122/122 [==============================] - 2s 16ms/step - loss: 0.2611 - accuracy: 0.8888 - val_loss: 0.4190 - val_accuracy: 0.8249\n",
      "Epoch 6/100\n",
      "120/122 [============================>.] - ETA: 0s - loss: 0.2349 - accuracy: 0.8990\n",
      "Epoch 00006: ReduceLROnPlateau reducing learning rate to 1.9999999494757503e-05.\n",
      "122/122 [==============================] - 2s 16ms/step - loss: 0.2352 - accuracy: 0.8988 - val_loss: 0.4801 - val_accuracy: 0.8134\n",
      "Epoch 7/100\n",
      "122/122 [==============================] - 2s 16ms/step - loss: 0.1943 - accuracy: 0.9175 - val_loss: 0.5127 - val_accuracy: 0.8110\n",
      "Epoch 8/100\n",
      "121/122 [============================>.] - ETA: 0s - loss: 0.1865 - accuracy: 0.9221Restoring model weights from the end of the best epoch.\n",
      "122/122 [==============================] - 2s 16ms/step - loss: 0.1866 - accuracy: 0.9219 - val_loss: 0.5368 - val_accuracy: 0.8092\n",
      "Epoch 00008: early stopping\n",
      "--- 19.237488746643066 seconds ---\n"
     ]
    },
    {
     "data": {
      "image/png": "[encoded data removed]",
      "text/plain": [
       "<Figure size 432x288 with 1 Axes>"
      ]
     },
     "metadata": {
      "needs_background": "light"
     },
     "output_type": "display_data"
    },
    {
     "data": {
      "image/png": "[encoded data removed]",
      "text/plain": [
       "<Figure size 432x288 with 1 Axes>"
      ]
     },
     "metadata": {
      "needs_background": "light"
     },
     "output_type": "display_data"
    }
   ],
   "source": [
    "y_train = train_df.label.values\n",
    "#Build and train GRU model\n",
    "model = GRU_model(gru_units=512, dropout_rate=0.2, embedding_matrix = embedding_matrix)\n",
    "model, history, runtime = train_model(model,X_train, y_train, learning_rate=0.0001, epochs=100, batch_size=128)"
   ]
  },
  {
   "cell_type": "markdown",
   "id": "93d68fdf-e622-4513-995f-26536b42c486",
   "metadata": {},
   "source": [
    "### Load Test Dataset"
   ]
  },
  {
   "cell_type": "code",
   "execution_count": 11,
   "id": "449b4789-1950-4229-b358-0067a8189cc7",
   "metadata": {
    "id": "fHlmj4Ef_1GK"
   },
   "outputs": [],
   "source": [
    "# Load test dataset\n",
    "filename = '../data/webis_test.csv'\n",
    "test_df = read_data(filename)"
   ]
  },
  {
   "cell_type": "code",
   "execution_count": 12,
   "id": "c6e4d676-b2e7-4242-b0c4-bbe913029231",
   "metadata": {},
   "outputs": [],
   "source": [
    "max_seq_len = 20\n",
    "#Apply same preprocessing and tokenizer to test dataset tweets\n",
    "test_df['cleanedText'] = test_df.postText.apply(lambda x: deep_clean_tweet(x))\n",
    "test_df  = test_df.loc[test_df.cleanedText != '']\n",
    "\n",
    "X_te = x_tokenizer.texts_to_sequences(test_df[\"cleanedText\"].values) \n",
    "X_test = pad_sequences(maxlen=max_seq_len, sequences=X_te, padding='post', truncating = 'post', value=x_tokenizer.word_index['PAD'])"
   ]
  },
  {
   "cell_type": "markdown",
   "id": "47266e6d-4b8a-47cf-9695-8bfdee277a43",
   "metadata": {},
   "source": [
    "### Evaluation"
   ]
  },
  {
   "cell_type": "code",
   "execution_count": 13,
   "id": "e2077784-a4fe-48ac-a6af-b979ed5c75d9",
   "metadata": {
    "colab": {
     "base_uri": "https://localhost:8080/"
    },
    "executionInfo": {
     "elapsed": 24,
     "status": "ok",
     "timestamp": 1650615266447,
     "user": {
      "displayName": "Francesca Sallicati",
      "userId": "05696714463884583021"
     },
     "user_tz": -120
    },
    "id": "Aopxgw6GCDvt",
    "outputId": "29c01703-78bf-4945-c8e6-c08afa7576b3"
   },
   "outputs": [
    {
     "name": "stdout",
     "output_type": "stream",
     "text": [
      "591/591 [==============================] - 2s 3ms/step - loss: 0.3684 - accuracy: 0.8414\n",
      "Test loss: 0.3683548867702484\n",
      "Test accuracy 0.8413840532302856\n",
      "\n",
      "Classification report : \n",
      "               precision    recall  f1-score   support\n",
      "\n",
      "no-clickbait       0.87      0.93      0.90     14454\n",
      "   clickbait       0.71      0.55      0.62      4447\n",
      "\n",
      "    accuracy                           0.84     18901\n",
      "   macro avg       0.79      0.74      0.76     18901\n",
      "weighted avg       0.83      0.84      0.83     18901\n",
      "\n"
     ]
    }
   ],
   "source": [
    "y_test = test_df.label.values\n",
    "#Evaluate GRU model\n",
    "predictions = evaluate_model(model, X_test, y_test, threshold = 0.5)\n",
    "##Get Classification report\n",
    "classes = ['no-clickbait', 'clickbait']\n",
    "print(\"\\nClassification report : \\n\", classification_report(y_test, predictions, zero_division = 0, target_names=classes))"
   ]
  },
  {
   "cell_type": "code",
   "execution_count": 14,
   "id": "0ec17855-7cf3-4f1b-b3bd-72f808a24c20",
   "metadata": {
    "colab": {
     "base_uri": "https://localhost:8080/",
     "height": 296
    },
    "executionInfo": {
     "elapsed": 696,
     "status": "ok",
     "timestamp": 1650615267126,
     "user": {
      "displayName": "Francesca Sallicati",
      "userId": "05696714463884583021"
     },
     "user_tz": -120
    },
    "id": "WN7RedFkCDvv",
    "outputId": "a5a9ec06-37f3-4693-def2-8312538a6b04"
   },
   "outputs": [
    {
     "data": {
      "text/plain": [
       "<sklearn.metrics._plot.confusion_matrix.ConfusionMatrixDisplay at 0x7f04140bc0d0>"
      ]
     },
     "execution_count": 14,
     "metadata": {},
     "output_type": "execute_result"
    },
    {
     "data": {
      "image/png": "[encoded data removed]",
      "text/plain": [
       "<Figure size 432x288 with 2 Axes>"
      ]
     },
     "metadata": {
      "needs_background": "light"
     },
     "output_type": "display_data"
    }
   ],
   "source": [
    "##Get Confusion Matrix\n",
    "cm = confusion_matrix(y_test, predictions)\n",
    "cmd = ConfusionMatrixDisplay(cm, display_labels=classes)\n",
    "cmd.plot()"
   ]
  },
  {
   "cell_type": "code",
   "execution_count": 15,
   "id": "a5d8f8c3-cc9f-468b-929d-c6a32f55fc6b",
   "metadata": {},
   "outputs": [
    {
     "name": "stdout",
     "output_type": "stream",
     "text": [
      "Accuracy Score:  0.8413840537537697\n",
      "F1 Score:  0.620217887002787\n",
      "Precision Score:  0.7101827676240209\n",
      "Recall Score:  0.5504834720035979\n"
     ]
    }
   ],
   "source": [
    "accuracy, f1, precision, recall = compute_metrics(y_test, predictions)"
   ]
  },
  {
   "cell_type": "code",
   "execution_count": 16,
   "id": "1edeb970-7dac-4d66-a00b-9722049aca93",
   "metadata": {},
   "outputs": [],
   "source": [
    "path = '../trained_models/GRUs'\n",
    "if not os.path.isdir(path):\n",
    "    os.mkdir(path)\n",
    "\n",
    "model.save(path + '/01_gru_fastText_hardPreproc_model.h5')\n",
    "with open(path + '/01_gru_fastText_hardPreproc_vocab.json', \"wb\") as f:\n",
    "    f.write(json.dumps(x_tokenizer.word_index).encode(\"utf-8\"))"
   ]
  },
  {
   "cell_type": "code",
   "execution_count": 17,
   "id": "8e54d1b6-c9fe-4539-b4c1-cc79c91f861e",
   "metadata": {},
   "outputs": [],
   "source": [
    "#Save metrics and runtime\n",
    "name = 'gru_fastText_hardPreproc'\n",
    "write_metrics(name, accuracy, f1, precision, recall, runtime, results_path = '../trained_models', results_filename = 'results.csv')  "
   ]
  },
  {
   "cell_type": "markdown",
   "id": "886486f6-abdd-4bb6-b03f-51f9b6082ad3",
   "metadata": {},
   "source": [
    "### Training with ClassWeights"
   ]
  },
  {
   "cell_type": "code",
   "execution_count": 18,
   "id": "e66ebc90-0a2b-4796-8b5a-d133a64a4683",
   "metadata": {},
   "outputs": [
    {
     "name": "stdout",
     "output_type": "stream",
     "text": [
      "Model: \"lstm_model\"\n",
      "_________________________________________________________________\n",
      "Layer (type)                 Output Shape              Param #   \n",
      "=================================================================\n",
      "inputs (InputLayer)          [(None, 20)]              0         \n",
      "_________________________________________________________________\n",
      "embedding_1 (Embedding)      (None, 20, 300)           2512800   \n",
      "_________________________________________________________________\n",
      "gru_1 (GRU)                  (None, 20, 512)           1250304   \n",
      "_________________________________________________________________\n",
      "global_max_pooling1d_1 (Glob (None, 512)               0         \n",
      "_________________________________________________________________\n",
      "dropout_1 (Dropout)          (None, 512)               0         \n",
      "_________________________________________________________________\n",
      "dense_1 (Dense)              (None, 1)                 513       \n",
      "=================================================================\n",
      "Total params: 3,763,617\n",
      "Trainable params: 3,763,617\n",
      "Non-trainable params: 0\n",
      "_________________________________________________________________\n",
      "Epoch 1/100\n",
      "122/122 [==============================] - 2s 19ms/step - loss: 0.6498 - accuracy: 0.7139 - val_loss: 0.5801 - val_accuracy: 0.7443\n",
      "Epoch 2/100\n",
      "122/122 [==============================] - 2s 16ms/step - loss: 0.4964 - accuracy: 0.7855 - val_loss: 0.5618 - val_accuracy: 0.7587\n",
      "Epoch 3/100\n",
      "122/122 [==============================] - 2s 16ms/step - loss: 0.4078 - accuracy: 0.8200 - val_loss: 0.5012 - val_accuracy: 0.7759\n",
      "Epoch 4/100\n",
      "122/122 [==============================] - 2s 16ms/step - loss: 0.3444 - accuracy: 0.8443 - val_loss: 0.4363 - val_accuracy: 0.8136\n",
      "Epoch 5/100\n",
      "122/122 [==============================] - 2s 16ms/step - loss: 0.2942 - accuracy: 0.8654 - val_loss: 0.5068 - val_accuracy: 0.7782\n",
      "Epoch 6/100\n",
      "122/122 [==============================] - 2s 16ms/step - loss: 0.2535 - accuracy: 0.8791 - val_loss: 0.5665 - val_accuracy: 0.7807\n",
      "Epoch 7/100\n",
      "121/122 [============================>.] - ETA: 0s - loss: 0.2242 - accuracy: 0.8931\n",
      "Epoch 00007: ReduceLROnPlateau reducing learning rate to 1.9999999494757503e-05.\n",
      "122/122 [==============================] - 2s 16ms/step - loss: 0.2249 - accuracy: 0.8929 - val_loss: 0.5869 - val_accuracy: 0.7769\n",
      "Epoch 8/100\n",
      "122/122 [==============================] - 2s 16ms/step - loss: 0.1787 - accuracy: 0.9191 - val_loss: 0.7079 - val_accuracy: 0.7872\n",
      "Epoch 9/100\n",
      "119/122 [============================>.] - ETA: 0s - loss: 0.1679 - accuracy: 0.9235Restoring model weights from the end of the best epoch.\n",
      "122/122 [==============================] - 2s 16ms/step - loss: 0.1675 - accuracy: 0.9236 - val_loss: 0.7322 - val_accuracy: 0.7805\n",
      "Epoch 00009: early stopping\n",
      "--- 19.731279611587524 seconds ---\n"
     ]
    },
    {
     "data": {
      "image/png": "[encoded data removed]",
      "text/plain": [
       "<Figure size 432x288 with 1 Axes>"
      ]
     },
     "metadata": {
      "needs_background": "light"
     },
     "output_type": "display_data"
    },
    {
     "data": {
      "image/png": "[encoded data removed]",
      "text/plain": [
       "<Figure size 432x288 with 1 Axes>"
      ]
     },
     "metadata": {
      "needs_background": "light"
     },
     "output_type": "display_data"
    }
   ],
   "source": [
    "##Build and train GRU model\n",
    "model = GRU_model(gru_units=512, dropout_rate=0.2, embedding_matrix = embedding_matrix)\n",
    "model, history, runtime = train_model(model, X_train, y_train, learning_rate=0.0001, epochs=100, batch_size=128, class_weights = class_weights)"
   ]
  },
  {
   "cell_type": "markdown",
   "id": "0892c0b6-5735-46ff-a1c8-d565569af551",
   "metadata": {},
   "source": [
    "### Evaluation"
   ]
  },
  {
   "cell_type": "code",
   "execution_count": 19,
   "id": "1de86afe-4e52-4678-a222-df7bb10573ff",
   "metadata": {
    "colab": {
     "base_uri": "https://localhost:8080/"
    },
    "executionInfo": {
     "elapsed": 24,
     "status": "ok",
     "timestamp": 1650615266447,
     "user": {
      "displayName": "Francesca Sallicati",
      "userId": "05696714463884583021"
     },
     "user_tz": -120
    },
    "id": "Aopxgw6GCDvt",
    "outputId": "29c01703-78bf-4945-c8e6-c08afa7576b3"
   },
   "outputs": [
    {
     "name": "stdout",
     "output_type": "stream",
     "text": [
      "591/591 [==============================] - 2s 3ms/step - loss: 0.4138 - accuracy: 0.8195\n",
      "Test loss: 0.41382360458374023\n",
      "Test accuracy 0.8194804787635803\n",
      "\n",
      "Classification report : \n",
      "               precision    recall  f1-score   support\n",
      "\n",
      "no-clickbait       0.90      0.85      0.88     14454\n",
      "   clickbait       0.60      0.71      0.65      4447\n",
      "\n",
      "    accuracy                           0.82     18901\n",
      "   macro avg       0.75      0.78      0.76     18901\n",
      "weighted avg       0.83      0.82      0.82     18901\n",
      "\n"
     ]
    }
   ],
   "source": [
    "##Evaluate GRU model\n",
    "predictions = evaluate_model(model, X_test, y_test, threshold = 0.5)\n",
    "##Get Classification report\n",
    "classes = ['no-clickbait', 'clickbait']\n",
    "print(\"\\nClassification report : \\n\", classification_report(y_test, predictions, zero_division = 0, target_names=classes))"
   ]
  },
  {
   "cell_type": "code",
   "execution_count": 20,
   "id": "3a61717f-900b-41cd-ae13-36696276e79d",
   "metadata": {
    "colab": {
     "base_uri": "https://localhost:8080/",
     "height": 296
    },
    "executionInfo": {
     "elapsed": 696,
     "status": "ok",
     "timestamp": 1650615267126,
     "user": {
      "displayName": "Francesca Sallicati",
      "userId": "05696714463884583021"
     },
     "user_tz": -120
    },
    "id": "WN7RedFkCDvv",
    "outputId": "a5a9ec06-37f3-4693-def2-8312538a6b04"
   },
   "outputs": [
    {
     "data": {
      "text/plain": [
       "<sklearn.metrics._plot.confusion_matrix.ConfusionMatrixDisplay at 0x7f0480395510>"
      ]
     },
     "execution_count": 20,
     "metadata": {},
     "output_type": "execute_result"
    },
    {
     "data": {
      "image/png": "[encoded data removed]",
      "text/plain": [
       "<Figure size 432x288 with 2 Axes>"
      ]
     },
     "metadata": {
      "needs_background": "light"
     },
     "output_type": "display_data"
    }
   ],
   "source": [
    "##Get Confusion Matrix\n",
    "cm = confusion_matrix(y_test, predictions)\n",
    "cmd = ConfusionMatrixDisplay(cm, display_labels=classes)\n",
    "cmd.plot()"
   ]
  },
  {
   "cell_type": "code",
   "execution_count": 21,
   "id": "0af12040-4228-41c0-96b2-e91291641a89",
   "metadata": {},
   "outputs": [
    {
     "name": "stdout",
     "output_type": "stream",
     "text": [
      "Accuracy Score:  0.8194804507698006\n",
      "F1 Score:  0.6481748814188493\n",
      "Precision Score:  0.5985526566368311\n",
      "Recall Score:  0.706768608050371\n"
     ]
    }
   ],
   "source": [
    "accuracy, f1, precision, recall = compute_metrics(y_test, predictions)"
   ]
  },
  {
   "cell_type": "code",
   "execution_count": 22,
   "id": "8341e2c5-bb05-4732-94e3-206eab5c6af8",
   "metadata": {},
   "outputs": [],
   "source": [
    "path = '../trained_models/GRUs'\n",
    "if not os.path.isdir(path):\n",
    "    os.mkdir(path)\n",
    "\n",
    "model.save(path + '/01_gru_fastText_hardPreproc_classWeights_model.h5')\n",
    "with open(path + '/01_gru_fastText_hardPreproc_classWeights_vocab.json', \"wb\") as f:\n",
    "    f.write(json.dumps(x_tokenizer.word_index).encode(\"utf-8\"))"
   ]
  },
  {
   "cell_type": "code",
   "execution_count": 23,
   "id": "bbfe9600-d079-4024-9905-c8f6f85c9bc5",
   "metadata": {},
   "outputs": [],
   "source": [
    "#Save metrics and runtime\n",
    "name = 'gru_fastText_hardPreproc_classWeights'\n",
    "write_metrics(name, accuracy, f1, precision, recall, runtime, results_path = '../trained_models', results_filename = 'results.csv')  "
   ]
  },
  {
   "cell_type": "markdown",
   "id": "f5504e61-209c-4e09-b8ee-e9fbc01ea9e8",
   "metadata": {},
   "source": [
    "# Cleaning Tweets - soft version"
   ]
  },
  {
   "cell_type": "code",
   "execution_count": 24,
   "id": "73b20b03-d329-4167-8beb-fe2e178f69ae",
   "metadata": {
    "colab": {
     "base_uri": "https://localhost:8080/",
     "height": 1000
    },
    "executionInfo": {
     "elapsed": 13898,
     "status": "ok",
     "timestamp": 1650611186855,
     "user": {
      "displayName": "Francesca Sallicati",
      "userId": "05696714463884583021"
     },
     "user_tz": -120
    },
    "id": "nDCIci2PCDvn",
    "outputId": "43545ed5-0b56-4b4b-9ecd-c84d0feacfd6",
    "tags": []
   },
   "outputs": [],
   "source": [
    "#Apply cleaning funcitons to tweets\n",
    "train_df['cleanedText'] = train_df.postText.apply(lambda x: clean_tweet_for_transformers(x))\n",
    "##Make sure that no empty string remains in 'cleanedText'\n",
    "train_df  = train_df.loc[train_df.cleanedText != '']"
   ]
  },
  {
   "cell_type": "markdown",
   "id": "82dc8b8e-29f9-405f-b47f-6291726742cb",
   "metadata": {},
   "source": [
    "## Plot cleaned tweet lenght distribution"
   ]
  },
  {
   "cell_type": "code",
   "execution_count": 25,
   "id": "e9e4acab-0095-4d46-a5a9-6ba96ecf5771",
   "metadata": {
    "colab": {
     "base_uri": "https://localhost:8080/",
     "height": 459
    },
    "executionInfo": {
     "elapsed": 1853,
     "status": "ok",
     "timestamp": 1650611188691,
     "user": {
      "displayName": "Francesca Sallicati",
      "userId": "05696714463884583021"
     },
     "user_tz": -120
    },
    "id": "CezsgjO9CDvo",
    "outputId": "84c5a767-3476-4a40-d86b-cf36fc514927"
   },
   "outputs": [
    {
     "name": "stdout",
     "output_type": "stream",
     "text": [
      "21.0\n"
     ]
    },
    {
     "data": {
      "image/png": "[encoded data removed]",
      "text/plain": [
       "<Figure size 504x504 with 1 Axes>"
      ]
     },
     "metadata": {
      "needs_background": "light"
     },
     "output_type": "display_data"
    }
   ],
   "source": [
    "lenghts =  [len(x) for x in train_df['cleanedText'].str.split()]\n",
    "percentile = np.percentile(lenghts,95)\n",
    "print(percentile)\n",
    "\n",
    "# Plot histogram of tweets lenght distribution in order to define the max_len parameter for the model\n",
    "plt.figure(figsize=(7, 7))\n",
    "plt.hist(lenghts, bins=25)\n",
    "plt.xlabel('Number of tokens in cleaned tweets')\n",
    "plt.ylabel('Count')\n",
    "plt.show()"
   ]
  },
  {
   "cell_type": "markdown",
   "id": "02cdd532-ea8c-49ed-84f5-effcb4e140da",
   "metadata": {},
   "source": [
    "# Vocabulary and Feature Extraction"
   ]
  },
  {
   "cell_type": "code",
   "execution_count": 26,
   "id": "27cd22ce-3d7d-419d-9acb-c188faea0a64",
   "metadata": {},
   "outputs": [
    {
     "name": "stdout",
     "output_type": "stream",
     "text": [
      "8822\n"
     ]
    }
   ],
   "source": [
    "max_seq_len = 40\n",
    "\n",
    "#preparing a tokenizer for segments on training data \n",
    "x_tokenizer = Tokenizer(oov_token = 'UNK')\n",
    "x_tokenizer.fit_on_texts(train_df[\"cleanedText\"].values)\n",
    "\n",
    "#filter x_tokenizer by deleting items based on word counts\n",
    "low_count_words = [w for w,c in x_tokenizer.word_counts.items() if c < 3]\n",
    "for w in low_count_words:\n",
    "    del x_tokenizer.word_index[w]\n",
    "    del x_tokenizer.word_docs[w]\n",
    "    del x_tokenizer.word_counts[w]    \n",
    "\n",
    "#Apply tokenizer to the sets\n",
    "X_tr = x_tokenizer.texts_to_sequences(train_df[\"cleanedText\"].values) \n",
    "\n",
    "#Set token for padding sequences\n",
    "x_tokenizer.word_index['PAD'] = 0\n",
    "x_tokenizer.index_word[0] = 'PAD'\n",
    "\n",
    "print(len(x_tokenizer.word_index))\n",
    "X_train = pad_sequences(maxlen=max_seq_len, sequences=X_tr, padding='post', truncating = 'post', value=x_tokenizer.word_index['PAD'])"
   ]
  },
  {
   "cell_type": "markdown",
   "id": "5ec68155-c2c5-4479-99f1-4120fbacb484",
   "metadata": {},
   "source": [
    "## Build Embeddings weights matrix"
   ]
  },
  {
   "cell_type": "code",
   "execution_count": 27,
   "id": "d248809c-d5d1-47bc-bf8f-470d92f2072b",
   "metadata": {},
   "outputs": [
    {
     "name": "stdout",
     "output_type": "stream",
     "text": [
      "(8822, 300)\n"
     ]
    }
   ],
   "source": [
    " #Build embedding matrix for our vocabulary\n",
    "embedding_matrix = np.zeros((len(x_tokenizer.word_index), 300))\n",
    "\n",
    "##set trained embeddings to a matrix\n",
    "for j, dict_word in enumerate(x_tokenizer.word_index.keys()):\n",
    "    if dict_word != 'UNK' and dict_word != 'PAD':\n",
    "        \n",
    "        embedding_matrix[j] = ft.get_word_vector(dict_word)\n",
    "        \n",
    "print(embedding_matrix.shape)\n",
    "#to save the embeddings_matrix run:\n",
    "#np.save('../data/embeddings/embeddings_matrix.npy', embedding_matrix)"
   ]
  },
  {
   "cell_type": "markdown",
   "id": "169b686f-c4cc-46a9-8abb-4af506e3f114",
   "metadata": {},
   "source": [
    "# GRU model"
   ]
  },
  {
   "cell_type": "markdown",
   "id": "ca0929da-fec2-4714-9090-97cadc50dd4a",
   "metadata": {},
   "source": [
    "### Training"
   ]
  },
  {
   "cell_type": "code",
   "execution_count": 28,
   "id": "f0b891f1-81b4-4c13-acfd-2959ee12c14c",
   "metadata": {},
   "outputs": [
    {
     "name": "stdout",
     "output_type": "stream",
     "text": [
      "Model: \"lstm_model\"\n",
      "_________________________________________________________________\n",
      "Layer (type)                 Output Shape              Param #   \n",
      "=================================================================\n",
      "inputs (InputLayer)          [(None, 40)]              0         \n",
      "_________________________________________________________________\n",
      "embedding_2 (Embedding)      (None, 40, 300)           2646600   \n",
      "_________________________________________________________________\n",
      "gru_2 (GRU)                  (None, 40, 512)           1250304   \n",
      "_________________________________________________________________\n",
      "global_max_pooling1d_2 (Glob (None, 512)               0         \n",
      "_________________________________________________________________\n",
      "dropout_2 (Dropout)          (None, 512)               0         \n",
      "_________________________________________________________________\n",
      "dense_2 (Dense)              (None, 1)                 513       \n",
      "=================================================================\n",
      "Total params: 3,897,417\n",
      "Trainable params: 3,897,417\n",
      "Non-trainable params: 0\n",
      "_________________________________________________________________\n",
      "Epoch 1/100\n",
      "122/122 [==============================] - 3s 24ms/step - loss: 0.5444 - accuracy: 0.7557 - val_loss: 0.4899 - val_accuracy: 0.7635\n",
      "Epoch 2/100\n",
      "122/122 [==============================] - 3s 22ms/step - loss: 0.4311 - accuracy: 0.8105 - val_loss: 0.3965 - val_accuracy: 0.8290\n",
      "Epoch 3/100\n",
      "122/122 [==============================] - 3s 22ms/step - loss: 0.3556 - accuracy: 0.8497 - val_loss: 0.3768 - val_accuracy: 0.8367\n",
      "Epoch 4/100\n",
      "122/122 [==============================] - 3s 22ms/step - loss: 0.3126 - accuracy: 0.8697 - val_loss: 0.3760 - val_accuracy: 0.8326\n",
      "Epoch 5/100\n",
      "122/122 [==============================] - 3s 21ms/step - loss: 0.2727 - accuracy: 0.8875 - val_loss: 0.3918 - val_accuracy: 0.8306\n",
      "Epoch 6/100\n",
      "122/122 [==============================] - 3s 21ms/step - loss: 0.2418 - accuracy: 0.9031 - val_loss: 0.4479 - val_accuracy: 0.8254\n",
      "Epoch 7/100\n",
      "121/122 [============================>.] - ETA: 0s - loss: 0.2142 - accuracy: 0.9178\n",
      "Epoch 00007: ReduceLROnPlateau reducing learning rate to 1.9999999494757503e-05.\n",
      "122/122 [==============================] - 3s 22ms/step - loss: 0.2145 - accuracy: 0.9177 - val_loss: 0.4428 - val_accuracy: 0.8149\n",
      "Epoch 8/100\n",
      "122/122 [==============================] - 3s 21ms/step - loss: 0.1773 - accuracy: 0.9365 - val_loss: 0.4990 - val_accuracy: 0.8169\n",
      "Epoch 9/100\n",
      "121/122 [============================>.] - ETA: 0s - loss: 0.1696 - accuracy: 0.9402Restoring model weights from the end of the best epoch.\n",
      "122/122 [==============================] - 3s 22ms/step - loss: 0.1698 - accuracy: 0.9402 - val_loss: 0.4968 - val_accuracy: 0.8177\n",
      "Epoch 00009: early stopping\n",
      "--- 25.66502332687378 seconds ---\n"
     ]
    },
    {
     "data": {
      "image/png": "[encoded data removed]",
      "text/plain": [
       "<Figure size 432x288 with 1 Axes>"
      ]
     },
     "metadata": {
      "needs_background": "light"
     },
     "output_type": "display_data"
    },
    {
     "data": {
      "image/png": "[encoded data removed]",
      "text/plain": [
       "<Figure size 432x288 with 1 Axes>"
      ]
     },
     "metadata": {
      "needs_background": "light"
     },
     "output_type": "display_data"
    }
   ],
   "source": [
    "#Build and train GRU model\n",
    "model = GRU_model(gru_units=512, dropout_rate=0.2, embedding_matrix = embedding_matrix)\n",
    "model, history, runtime = train_model(model,X_train, y_train, learning_rate=0.0001, epochs=100, batch_size=128)"
   ]
  },
  {
   "cell_type": "code",
   "execution_count": 29,
   "id": "f94ed064-9872-4441-ae48-134a47760c2c",
   "metadata": {},
   "outputs": [],
   "source": [
    "max_seq_len = 40\n",
    "#Apply same preprocessing and tokenizer to test dataset tweets\n",
    "test_df['cleanedText'] = test_df.postText.apply(lambda x: clean_tweet_for_transformers(x))\n",
    "test_df  = test_df.loc[test_df.cleanedText != '']\n",
    "\n",
    "X_te = x_tokenizer.texts_to_sequences(test_df[\"cleanedText\"].values) \n",
    "X_test = pad_sequences(maxlen=max_seq_len, sequences=X_te, padding='post', truncating = 'post', value=x_tokenizer.word_index['PAD'])"
   ]
  },
  {
   "cell_type": "markdown",
   "id": "31f3d397-dbb8-4e40-ac1d-0862c52ab3b7",
   "metadata": {},
   "source": [
    "### Evaluation"
   ]
  },
  {
   "cell_type": "code",
   "execution_count": 30,
   "id": "ac755dc1-165b-4328-87f9-354dd57d4e73",
   "metadata": {
    "colab": {
     "base_uri": "https://localhost:8080/"
    },
    "executionInfo": {
     "elapsed": 24,
     "status": "ok",
     "timestamp": 1650615266447,
     "user": {
      "displayName": "Francesca Sallicati",
      "userId": "05696714463884583021"
     },
     "user_tz": -120
    },
    "id": "Aopxgw6GCDvt",
    "outputId": "29c01703-78bf-4945-c8e6-c08afa7576b3"
   },
   "outputs": [
    {
     "name": "stdout",
     "output_type": "stream",
     "text": [
      "591/591 [==============================] - 2s 3ms/step - loss: 0.3579 - accuracy: 0.8461\n",
      "Test loss: 0.3579423725605011\n",
      "Test accuracy 0.8461456894874573\n",
      "\n",
      "Classification report : \n",
      "               precision    recall  f1-score   support\n",
      "\n",
      "no-clickbait       0.88      0.92      0.90     14454\n",
      "   clickbait       0.70      0.61      0.65      4447\n",
      "\n",
      "    accuracy                           0.85     18901\n",
      "   macro avg       0.79      0.77      0.78     18901\n",
      "weighted avg       0.84      0.85      0.84     18901\n",
      "\n"
     ]
    }
   ],
   "source": [
    "#Evaluate GRU model\n",
    "predictions = evaluate_model(model, X_test, y_test, threshold = 0.5)\n",
    "##Get Classification report\n",
    "classes = ['no-clickbait', 'clickbait']\n",
    "print(\"\\nClassification report : \\n\", classification_report(y_test, predictions, zero_division = 0, target_names=classes))"
   ]
  },
  {
   "cell_type": "code",
   "execution_count": 31,
   "id": "eb79a36f-c853-4242-b065-d8f6ed8133ed",
   "metadata": {
    "colab": {
     "base_uri": "https://localhost:8080/",
     "height": 296
    },
    "executionInfo": {
     "elapsed": 696,
     "status": "ok",
     "timestamp": 1650615267126,
     "user": {
      "displayName": "Francesca Sallicati",
      "userId": "05696714463884583021"
     },
     "user_tz": -120
    },
    "id": "WN7RedFkCDvv",
    "outputId": "a5a9ec06-37f3-4693-def2-8312538a6b04"
   },
   "outputs": [
    {
     "data": {
      "text/plain": [
       "<sklearn.metrics._plot.confusion_matrix.ConfusionMatrixDisplay at 0x7f06511d3b50>"
      ]
     },
     "execution_count": 31,
     "metadata": {},
     "output_type": "execute_result"
    },
    {
     "data": {
      "image/png": "[encoded data removed]",
      "text/plain": [
       "<Figure size 432x288 with 2 Axes>"
      ]
     },
     "metadata": {
      "needs_background": "light"
     },
     "output_type": "display_data"
    }
   ],
   "source": [
    "##Get Confusion Matrix\n",
    "cm = confusion_matrix(y_test, predictions)\n",
    "cmd = ConfusionMatrixDisplay(cm, display_labels=classes)\n",
    "cmd.plot()"
   ]
  },
  {
   "cell_type": "code",
   "execution_count": 32,
   "id": "8eab641e-e866-4f31-bdfd-d442f57e3303",
   "metadata": {},
   "outputs": [
    {
     "name": "stdout",
     "output_type": "stream",
     "text": [
      "Accuracy Score:  0.8461457065763717\n",
      "F1 Score:  0.6518199233716475\n",
      "Precision Score:  0.6970550576184379\n",
      "Recall Score:  0.6120980436249157\n"
     ]
    }
   ],
   "source": [
    "accuracy, f1, precision, recall = compute_metrics(y_test, predictions)"
   ]
  },
  {
   "cell_type": "code",
   "execution_count": 33,
   "id": "d5fb66d8-33a4-4002-b44a-9eb5930295f7",
   "metadata": {},
   "outputs": [],
   "source": [
    "path = '../trained_models/GRUs'\n",
    "if not os.path.isdir(path):\n",
    "    os.mkdir(path)\n",
    "\n",
    "model.save(path + '/01_gru_fastText_softPreproc_model.h5')\n",
    "with open(path + '/01_gru_fastText_softPreproc_vocab.json', \"wb\") as f:\n",
    "    f.write(json.dumps(x_tokenizer.word_index).encode(\"utf-8\"))"
   ]
  },
  {
   "cell_type": "code",
   "execution_count": 34,
   "id": "951fcc9e-7379-48a0-9306-26878829caab",
   "metadata": {},
   "outputs": [],
   "source": [
    "#Save metrics and runtime\n",
    "name = 'gru_fastText_softPreproc'\n",
    "write_metrics(name, accuracy, f1, precision, recall, runtime, results_path = '../trained_models', results_filename = 'results.csv')  "
   ]
  },
  {
   "cell_type": "markdown",
   "id": "b37d1e32-fab0-4d18-a66f-3335e964bb93",
   "metadata": {},
   "source": [
    "### Training with ClassWeights"
   ]
  },
  {
   "cell_type": "code",
   "execution_count": 35,
   "id": "3d52c27d-1e13-4310-ab9c-f5f4652bacc6",
   "metadata": {},
   "outputs": [
    {
     "name": "stdout",
     "output_type": "stream",
     "text": [
      "Model: \"lstm_model\"\n",
      "_________________________________________________________________\n",
      "Layer (type)                 Output Shape              Param #   \n",
      "=================================================================\n",
      "inputs (InputLayer)          [(None, 40)]              0         \n",
      "_________________________________________________________________\n",
      "embedding_3 (Embedding)      (None, 40, 300)           2646600   \n",
      "_________________________________________________________________\n",
      "gru_3 (GRU)                  (None, 40, 512)           1250304   \n",
      "_________________________________________________________________\n",
      "global_max_pooling1d_3 (Glob (None, 512)               0         \n",
      "_________________________________________________________________\n",
      "dropout_3 (Dropout)          (None, 512)               0         \n",
      "_________________________________________________________________\n",
      "dense_3 (Dense)              (None, 1)                 513       \n",
      "=================================================================\n",
      "Total params: 3,897,417\n",
      "Trainable params: 3,897,417\n",
      "Non-trainable params: 0\n",
      "_________________________________________________________________\n",
      "Epoch 1/100\n",
      "122/122 [==============================] - 3s 25ms/step - loss: 0.6676 - accuracy: 0.6755 - val_loss: 0.5976 - val_accuracy: 0.6850\n",
      "Epoch 2/100\n",
      "122/122 [==============================] - 3s 21ms/step - loss: 0.5169 - accuracy: 0.7705 - val_loss: 0.5444 - val_accuracy: 0.7687\n",
      "Epoch 3/100\n",
      "122/122 [==============================] - 3s 22ms/step - loss: 0.4346 - accuracy: 0.8142 - val_loss: 0.4676 - val_accuracy: 0.8082\n",
      "Epoch 4/100\n",
      "122/122 [==============================] - 3s 22ms/step - loss: 0.3711 - accuracy: 0.8405 - val_loss: 0.4610 - val_accuracy: 0.8103\n",
      "Epoch 5/100\n",
      "122/122 [==============================] - 3s 21ms/step - loss: 0.3141 - accuracy: 0.8667 - val_loss: 0.4777 - val_accuracy: 0.8067\n",
      "Epoch 6/100\n",
      "122/122 [==============================] - 3s 22ms/step - loss: 0.2756 - accuracy: 0.8800 - val_loss: 0.5970 - val_accuracy: 0.7512\n",
      "Epoch 7/100\n",
      "121/122 [============================>.] - ETA: 0s - loss: 0.2396 - accuracy: 0.8935\n",
      "Epoch 00007: ReduceLROnPlateau reducing learning rate to 1.9999999494757503e-05.\n",
      "122/122 [==============================] - 3s 22ms/step - loss: 0.2400 - accuracy: 0.8932 - val_loss: 0.5470 - val_accuracy: 0.8026\n",
      "Epoch 8/100\n",
      "122/122 [==============================] - 3s 22ms/step - loss: 0.1901 - accuracy: 0.9205 - val_loss: 0.5808 - val_accuracy: 0.7946\n",
      "Epoch 9/100\n",
      "121/122 [============================>.] - ETA: 0s - loss: 0.1774 - accuracy: 0.9274Restoring model weights from the end of the best epoch.\n",
      "122/122 [==============================] - 3s 22ms/step - loss: 0.1777 - accuracy: 0.9273 - val_loss: 0.6360 - val_accuracy: 0.7892\n",
      "Epoch 00009: early stopping\n",
      "--- 25.987305879592896 seconds ---\n"
     ]
    },
    {
     "data": {
      "image/png": "[encoded data removed]",
      "text/plain": [
       "<Figure size 432x288 with 1 Axes>"
      ]
     },
     "metadata": {
      "needs_background": "light"
     },
     "output_type": "display_data"
    },
    {
     "data": {
      "image/png": "[encoded data removed]",
      "text/plain": [
       "<Figure size 432x288 with 1 Axes>"
      ]
     },
     "metadata": {
      "needs_background": "light"
     },
     "output_type": "display_data"
    }
   ],
   "source": [
    "##Build and train GRU model\n",
    "model = GRU_model(gru_units=512, dropout_rate=0.2, embedding_matrix = embedding_matrix)\n",
    "model, history, runtime = train_model(model, X_train, y_train, learning_rate=0.0001, epochs=100, batch_size=128, class_weights = class_weights)"
   ]
  },
  {
   "cell_type": "markdown",
   "id": "45e1dba5-83f0-4697-b907-5725e9b55549",
   "metadata": {},
   "source": [
    "### Evaluation"
   ]
  },
  {
   "cell_type": "code",
   "execution_count": 36,
   "id": "82f85b77-6909-4a15-84f9-36cf8781f348",
   "metadata": {
    "colab": {
     "base_uri": "https://localhost:8080/"
    },
    "executionInfo": {
     "elapsed": 24,
     "status": "ok",
     "timestamp": 1650615266447,
     "user": {
      "displayName": "Francesca Sallicati",
      "userId": "05696714463884583021"
     },
     "user_tz": -120
    },
    "id": "Aopxgw6GCDvt",
    "outputId": "29c01703-78bf-4945-c8e6-c08afa7576b3"
   },
   "outputs": [
    {
     "name": "stdout",
     "output_type": "stream",
     "text": [
      "591/591 [==============================] - 2s 4ms/step - loss: 0.4338 - accuracy: 0.8158\n",
      "Test loss: 0.43380433320999146\n",
      "Test accuracy 0.815829873085022\n",
      "\n",
      "Classification report : \n",
      "               precision    recall  f1-score   support\n",
      "\n",
      "no-clickbait       0.92      0.83      0.87     14454\n",
      "   clickbait       0.58      0.77      0.66      4447\n",
      "\n",
      "    accuracy                           0.82     18901\n",
      "   macro avg       0.75      0.80      0.77     18901\n",
      "weighted avg       0.84      0.82      0.82     18901\n",
      "\n"
     ]
    }
   ],
   "source": [
    "##Evaluate GRU model\n",
    "predictions = evaluate_model(model, X_test, y_test, threshold = 0.5)\n",
    "##Get Classification report\n",
    "classes = ['no-clickbait', 'clickbait']\n",
    "print(\"\\nClassification report : \\n\", classification_report(y_test, predictions, zero_division = 0, target_names=classes))"
   ]
  },
  {
   "cell_type": "code",
   "execution_count": 37,
   "id": "8ec187ad-e121-40a4-88ea-3197a2cb0610",
   "metadata": {
    "colab": {
     "base_uri": "https://localhost:8080/",
     "height": 296
    },
    "executionInfo": {
     "elapsed": 696,
     "status": "ok",
     "timestamp": 1650615267126,
     "user": {
      "displayName": "Francesca Sallicati",
      "userId": "05696714463884583021"
     },
     "user_tz": -120
    },
    "id": "WN7RedFkCDvv",
    "outputId": "a5a9ec06-37f3-4693-def2-8312538a6b04"
   },
   "outputs": [
    {
     "data": {
      "text/plain": [
       "<sklearn.metrics._plot.confusion_matrix.ConfusionMatrixDisplay at 0x7f040c475d10>"
      ]
     },
     "execution_count": 37,
     "metadata": {},
     "output_type": "execute_result"
    },
    {
     "data": {
      "image/png": "[encoded data removed]",
      "text/plain": [
       "<Figure size 432x288 with 2 Axes>"
      ]
     },
     "metadata": {
      "needs_background": "light"
     },
     "output_type": "display_data"
    }
   ],
   "source": [
    "##Get Confusion Matrix\n",
    "cm = confusion_matrix(y_test, predictions)\n",
    "cmd = ConfusionMatrixDisplay(cm, display_labels=classes)\n",
    "cmd.plot()"
   ]
  },
  {
   "cell_type": "code",
   "execution_count": 38,
   "id": "93462817-5d0e-4a69-a7bf-16b0237df4fd",
   "metadata": {},
   "outputs": [
    {
     "name": "stdout",
     "output_type": "stream",
     "text": [
      "Accuracy Score:  0.8158298502724723\n",
      "F1 Score:  0.6625302956858943\n",
      "Precision Score:  0.5823108384458078\n",
      "Recall Score:  0.7683831796716888\n"
     ]
    }
   ],
   "source": [
    "accuracy, f1, precision, recall = compute_metrics(y_test, predictions)"
   ]
  },
  {
   "cell_type": "code",
   "execution_count": 39,
   "id": "7a14da8b-ff3a-4f66-a092-73c14c400bf5",
   "metadata": {},
   "outputs": [],
   "source": [
    "path = '../trained_models/GRUs'\n",
    "if not os.path.isdir(path):\n",
    "    os.mkdir(path)\n",
    "\n",
    "model.save(path + '/01_gru_fastText_softPreproc_classWeights_model.h5')\n",
    "with open(path + '/01_gru_fastText_softPreproc_classWeights_vocab.json', \"wb\") as f:\n",
    "    f.write(json.dumps(x_tokenizer.word_index).encode(\"utf-8\"))"
   ]
  },
  {
   "cell_type": "code",
   "execution_count": 40,
   "id": "1ebc14c3-0695-4a7a-bf62-6aade6c582cf",
   "metadata": {},
   "outputs": [],
   "source": [
    "#Save metrics and runtime\n",
    "name = 'gru_fastText_softPreproc_classWeights'\n",
    "write_metrics(name, accuracy, f1, precision, recall, runtime, results_path = '../trained_models', results_filename = 'results.csv')  "
   ]
  },
  {
   "cell_type": "code",
   "execution_count": null,
   "id": "68c7fb70-ee73-453f-b512-97798efabe2d",
   "metadata": {},
   "outputs": [],
   "source": []
  },
  {
   "cell_type": "code",
   "execution_count": null,
   "id": "b2260dde-6088-4a08-a4cd-a6ee9cffbcfb",
   "metadata": {},
   "outputs": [],
   "source": []
  }
 ],
 "metadata": {
  "kernelspec": {
   "display_name": "Python [conda env:.conda-clickbait_detection]",
   "language": "python",
   "name": "conda-env-.conda-clickbait_detection-py"
  },
  "language_info": {
   "codemirror_mode": {
    "name": "ipython",
    "version": 3
   },
   "file_extension": ".py",
   "mimetype": "text/x-python",
   "name": "python",
   "nbconvert_exporter": "python",
   "pygments_lexer": "ipython3",
   "version": "3.7.11"
  }
 },
 "nbformat": 4,
 "nbformat_minor": 5
}
