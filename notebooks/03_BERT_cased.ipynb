{
 "cells": [
  {
   "cell_type": "markdown",
   "id": "8e2dd096-200c-45c3-bfe7-b332f1bc646f",
   "metadata": {},
   "source": [
    "# Imports"
   ]
  },
  {
   "cell_type": "code",
   "execution_count": 1,
   "id": "e3eca086-484c-433e-b672-0aef1394c062",
   "metadata": {},
   "outputs": [
    {
     "name": "stderr",
     "output_type": "stream",
     "text": [
      "/home/jovyan/.conda/envs/clickbait_detection/lib/python3.7/site-packages/tqdm/auto.py:22: TqdmWarning: IProgress not found. Please update jupyter and ipywidgets. See https://ipywidgets.readthedocs.io/en/stable/user_install.html\n",
      "  from .autonotebook import tqdm as notebook_tqdm\n"
     ]
    }
   ],
   "source": [
    "import pandas as pd\n",
    "import numpy as np\n",
    "import timeit\n",
    "import os\n",
    "import sys\n",
    "import os\n",
    "import json\n",
    "sys.path.append(\"..\")\n",
    "\n",
    "import tensorflow as tf\n",
    "from sklearn.metrics import classification_report\n",
    "from sklearn.metrics import confusion_matrix, ConfusionMatrixDisplay\n",
    "from sklearn.utils import class_weight,compute_class_weight\n",
    "import matplotlib.pyplot as plt\n",
    "from transformers import BertTokenizer, TFBertModel\n",
    "\n",
    "from src.utils import write_metrics\n",
    "from src.preprocessing import clean_tweet_for_transformers\n",
    "from src.utils import read_data\n",
    "from src.utils import plot_result\n",
    "from src.utils import train_model, evaluate_model\n",
    "from src.utils import compute_metrics\n",
    "from src.utils import set_seed\n",
    "#set_seed(20042022)\n",
    "\n"
   ]
  },
  {
   "cell_type": "markdown",
   "id": "8e44065e-92fe-45be-88a8-614f767696ba",
   "metadata": {},
   "source": [
    "# Load Training Dataset"
   ]
  },
  {
   "cell_type": "code",
   "execution_count": 2,
   "id": "1aee3e8d-b530-47a9-b870-ed037c4f549a",
   "metadata": {
    "colab": {
     "base_uri": "https://localhost:8080/",
     "height": 1000
    },
    "executionInfo": {
     "elapsed": 4128,
     "status": "ok",
     "timestamp": 1650611165000,
     "user": {
      "displayName": "Francesca Sallicati",
      "userId": "05696714463884583021"
     },
     "user_tz": -120
    },
    "id": "bseCIdNI-8P6",
    "outputId": "50b0a12d-cf23-4640-9986-b9536a5d3cf9"
   },
   "outputs": [],
   "source": [
    "#Load Trainig Dataset\n",
    "filename = '../data/webis_train.csv'\n",
    "train_df = read_data(filename)"
   ]
  },
  {
   "cell_type": "markdown",
   "id": "3fb08010-8ce9-44f3-9130-139029afdb81",
   "metadata": {},
   "source": [
    "# Cleaning Tweets"
   ]
  },
  {
   "cell_type": "code",
   "execution_count": 3,
   "id": "bf3e876f-5bd3-4550-88ac-2315d85d2960",
   "metadata": {
    "colab": {
     "base_uri": "https://localhost:8080/",
     "height": 1000
    },
    "executionInfo": {
     "elapsed": 13898,
     "status": "ok",
     "timestamp": 1650611186855,
     "user": {
      "displayName": "Francesca Sallicati",
      "userId": "05696714463884583021"
     },
     "user_tz": -120
    },
    "id": "nDCIci2PCDvn",
    "outputId": "43545ed5-0b56-4b4b-9ecd-c84d0feacfd6",
    "tags": []
   },
   "outputs": [],
   "source": [
    "#Apply cleaning funcitons to tweets\n",
    "train_df['cleanedText'] = train_df.postText.apply(lambda x: clean_tweet_for_transformers(x))\n",
    "##Make sure that no empty string remains in 'cleanedText'\n",
    "train_df  = train_df.loc[train_df.cleanedText != '']"
   ]
  },
  {
   "cell_type": "markdown",
   "id": "cefe21dd-e2cb-4d57-9e9e-a3d0ec0c3897",
   "metadata": {},
   "source": [
    "## Plot cleaned tweet lenght distribution"
   ]
  },
  {
   "cell_type": "code",
   "execution_count": 4,
   "id": "fb31a15e-408c-4cb8-b69b-894fa46cfdd1",
   "metadata": {
    "colab": {
     "base_uri": "https://localhost:8080/",
     "height": 459
    },
    "executionInfo": {
     "elapsed": 1853,
     "status": "ok",
     "timestamp": 1650611188691,
     "user": {
      "displayName": "Francesca Sallicati",
      "userId": "05696714463884583021"
     },
     "user_tz": -120
    },
    "id": "CezsgjO9CDvo",
    "outputId": "84c5a767-3476-4a40-d86b-cf36fc514927"
   },
   "outputs": [
    {
     "name": "stdout",
     "output_type": "stream",
     "text": [
      "21.0\n"
     ]
    },
    {
     "data": {
      "image/png": "[encoded data removed]",
      "text/plain": [
       "<Figure size 504x504 with 1 Axes>"
      ]
     },
     "metadata": {
      "needs_background": "light"
     },
     "output_type": "display_data"
    }
   ],
   "source": [
    "lenghts =  [len(x) for x in train_df['cleanedText'].str.split()]\n",
    "percentile = np.percentile(lenghts,95)\n",
    "print(percentile)\n",
    "\n",
    "# Plot histogram of tweets lenght distribution in order to define the max_len parameter for the model\n",
    "plt.figure(figsize=(7, 7))\n",
    "plt.hist(lenghts, bins=25)\n",
    "plt.xlabel('Number of tokens in cleaned tweets')\n",
    "plt.ylabel('Count')\n",
    "plt.show()"
   ]
  },
  {
   "cell_type": "markdown",
   "id": "07e491e5-6aaa-4615-bf6b-7039ea360505",
   "metadata": {},
   "source": [
    "## Compute Class Weights"
   ]
  },
  {
   "cell_type": "code",
   "execution_count": 5,
   "id": "6f8b69cf-7fb4-4505-a534-2642e53e9ebb",
   "metadata": {
    "id": "ezSqxLkJCDvq"
   },
   "outputs": [
    {
     "name": "stdout",
     "output_type": "stream",
     "text": [
      "{0: 0.6596695557963164, 1: 2.0657336726039017}\n"
     ]
    }
   ],
   "source": [
    "##Calculate class_weights to attenuate the unbalanced classification problem \n",
    "y_train = train_df.truthClass.values\n",
    "class_weights = compute_class_weight(\n",
    "                                        class_weight = \"balanced\",\n",
    "                                        classes = ['no-clickbait', 'clickbait'],\n",
    "                                        y = y_train                                                   \n",
    "                                    )\n",
    "\n",
    "class_weights = dict(zip([0,1], class_weights))\n",
    "print(class_weights)"
   ]
  },
  {
   "cell_type": "markdown",
   "id": "04f50adc-7647-4bff-b08e-8aa1fd2803fb",
   "metadata": {},
   "source": [
    "# Model definition - BERT (cased)"
   ]
  },
  {
   "cell_type": "code",
   "execution_count": 6,
   "id": "6a2a6855-1406-4488-a38c-1bc2f70a5810",
   "metadata": {
    "colab": {
     "base_uri": "https://localhost:8080/"
    },
    "executionInfo": {
     "elapsed": 11290,
     "status": "ok",
     "timestamp": 1650611276982,
     "user": {
      "displayName": "Francesca Sallicati",
      "userId": "05696714463884583021"
     },
     "user_tz": -120
    },
    "id": "x18XwY18wXxK",
    "outputId": "6ef86627-048e-4a8f-c1a9-1b216faaa75a",
    "tags": []
   },
   "outputs": [
    {
     "name": "stderr",
     "output_type": "stream",
     "text": [
      "Some layers from the model checkpoint at bert-base-cased were not used when initializing TFBertModel: ['mlm___cls', 'nsp___cls']\n",
      "- This IS expected if you are initializing TFBertModel from the checkpoint of a model trained on another task or with another architecture (e.g. initializing a BertForSequenceClassification model from a BertForPreTraining model).\n",
      "- This IS NOT expected if you are initializing TFBertModel from the checkpoint of a model that you expect to be exactly identical (initializing a BertForSequenceClassification model from a BertForSequenceClassification model).\n",
      "All the layers of TFBertModel were initialized from the model checkpoint at bert-base-cased.\n",
      "If your task is similar to the task the model of the checkpoint was trained on, you can already use TFBertModel for predictions without further training.\n"
     ]
    },
    {
     "name": "stdout",
     "output_type": "stream",
     "text": [
      "Model: \"BERTweet\"\n",
      "__________________________________________________________________________________________________\n",
      "Layer (type)                    Output Shape         Param #     Connected to                     \n",
      "==================================================================================================\n",
      "attention_mask (InputLayer)     [(None, 40)]         0                                            \n",
      "__________________________________________________________________________________________________\n",
      "input_ids (InputLayer)          [(None, 40)]         0                                            \n",
      "__________________________________________________________________________________________________\n",
      "bert (TFBertMainLayer)          TFBaseModelOutputWit 108310272   attention_mask[0][0]             \n",
      "                                                                 input_ids[0][0]                  \n",
      "__________________________________________________________________________________________________\n",
      "pooled_output (Dropout)         (None, 768)          0           bert[0][1]                       \n",
      "__________________________________________________________________________________________________\n",
      "output (Dense)                  (None, 1)            769         pooled_output[0][0]              \n",
      "==================================================================================================\n",
      "Total params: 108,311,041\n",
      "Trainable params: 108,311,041\n",
      "Non-trainable params: 0\n",
      "__________________________________________________________________________________________________\n"
     ]
    }
   ],
   "source": [
    "max_length= 40\n",
    "\n",
    "#Setup BERT Model\n",
    "bert = TFBertModel.from_pretrained(\"bert-base-cased\")\n",
    "bert = bert.layers[0]\n",
    "# Build model inputs\n",
    "input_ids = Input(shape=(max_length,), name='input_ids', dtype='int32')\n",
    "attention_mask = Input(shape=(max_length,), name='attention_mask', dtype='int32')\n",
    "inputs = {'input_ids': input_ids, 'attention_mask': attention_mask}\n",
    "# Load the Transformers BERT model as a layer into a Keras model\n",
    "bert = bert(inputs)[1]\n",
    "dropout = Dropout(0.2, name='pooled_output')\n",
    "pooled_output = dropout(bert, training=False)\n",
    "output = Dense(units=1, name='output', activation = 'sigmoid')(pooled_output)\n",
    "model = Model(inputs=inputs, outputs=output, name='BERTweet')\n",
    "model.summary()"
   ]
  },
  {
   "cell_type": "markdown",
   "id": "be6670cf-70f9-4f9c-af5a-7e682655dbe7",
   "metadata": {},
   "source": [
    "## Model definition - BERT (cased)"
   ]
  },
  {
   "cell_type": "code",
   "execution_count": 7,
   "id": "86d52ad2-8cd9-400a-aeb6-8645d5b21e73",
   "metadata": {},
   "outputs": [],
   "source": [
    "#Apply tokenizer to training data\n",
    "tokenizer = BertTokenizer.from_pretrained('bert-base-cased')\n",
    "\n",
    "x = tokenizer(\n",
    "    text=train_df['cleanedText'].astype(str).to_list(),\n",
    "    add_special_tokens=True,\n",
    "    max_length=max_length,\n",
    "    truncation=True,\n",
    "    padding=True, \n",
    "    return_tensors='tf',\n",
    "    return_token_type_ids = False,\n",
    "    return_attention_mask = True,\n",
    "    verbose = True)"
   ]
  },
  {
   "cell_type": "markdown",
   "id": "988ad442-4de0-42c0-b35b-62c39344e81d",
   "metadata": {},
   "source": [
    "### Training"
   ]
  },
  {
   "cell_type": "code",
   "execution_count": 8,
   "id": "94ce2f38-826a-4074-98b3-3673d20ca94c",
   "metadata": {},
   "outputs": [
    {
     "name": "stdout",
     "output_type": "stream",
     "text": [
      "Epoch 1/100\n",
      "122/122 [==============================] - 63s 519ms/step - loss: 0.4012 - accuracy: 0.8248 - val_loss: 0.3348 - val_accuracy: 0.8501\n",
      "Epoch 2/100\n",
      "122/122 [==============================] - 61s 501ms/step - loss: 0.3161 - accuracy: 0.8622 - val_loss: 0.3338 - val_accuracy: 0.8589\n",
      "Epoch 3/100\n",
      "122/122 [==============================] - 61s 500ms/step - loss: 0.2743 - accuracy: 0.8863 - val_loss: 0.3374 - val_accuracy: 0.8558\n",
      "Epoch 4/100\n",
      "122/122 [==============================] - 61s 501ms/step - loss: 0.2323 - accuracy: 0.9043 - val_loss: 0.3747 - val_accuracy: 0.8427\n",
      "Epoch 5/100\n",
      "122/122 [==============================] - ETA: 0s - loss: 0.1797 - accuracy: 0.9303\n",
      "Epoch 00005: ReduceLROnPlateau reducing learning rate to 1.9999999494757505e-06.\n",
      "122/122 [==============================] - 61s 501ms/step - loss: 0.1797 - accuracy: 0.9303 - val_loss: 0.3973 - val_accuracy: 0.8417\n",
      "Epoch 6/100\n",
      "122/122 [==============================] - 61s 502ms/step - loss: 0.1263 - accuracy: 0.9537 - val_loss: 0.4533 - val_accuracy: 0.8463\n",
      "Epoch 7/100\n",
      "122/122 [==============================] - ETA: 0s - loss: 0.1059 - accuracy: 0.9621Restoring model weights from the end of the best epoch.\n",
      "122/122 [==============================] - 61s 503ms/step - loss: 0.1059 - accuracy: 0.9621 - val_loss: 0.4705 - val_accuracy: 0.8463\n",
      "Epoch 00007: early stopping\n",
      "--- 446.22482204437256 seconds ---\n"
     ]
    },
    {
     "data": {
      "image/png": "[encoded data removed]",
      "text/plain": [
       "<Figure size 432x288 with 1 Axes>"
      ]
     },
     "metadata": {
      "needs_background": "light"
     },
     "output_type": "display_data"
    },
    {
     "data": {
      "image/png": "[encoded data removed]",
      "text/plain": [
       "<Figure size 432x288 with 1 Axes>"
      ]
     },
     "metadata": {
      "needs_background": "light"
     },
     "output_type": "display_data"
    }
   ],
   "source": [
    "##Build and train BERT model\n",
    "y_train = train_df.label.values\n",
    "model, history, runtime = train_model(model, {'input_ids': x['input_ids'], 'attention_mask': x['attention_mask']}, y_train, learning_rate=0.00001, epochs=100, batch_size=128)"
   ]
  },
  {
   "cell_type": "markdown",
   "id": "0a49c923-c123-4810-83bd-e6e8a1c647b7",
   "metadata": {},
   "source": [
    "### Load Test Dataset"
   ]
  },
  {
   "cell_type": "code",
   "execution_count": 9,
   "id": "fcc94cfa-58e7-4ce8-a307-1457928bec23",
   "metadata": {},
   "outputs": [],
   "source": [
    "# Load test dataset\n",
    "filename = '../data/webis_test.csv'\n",
    "test_df = read_data(filename)"
   ]
  },
  {
   "cell_type": "code",
   "execution_count": 10,
   "id": "37364348-8b72-4d9a-871a-bb472521efb6",
   "metadata": {},
   "outputs": [],
   "source": [
    "max_seq_len = 40\n",
    "\n",
    "#Apply same preprocessing and tokenizer to test dataset tweets\n",
    "test_df['cleanedText'] = test_df.postText.apply(lambda x: clean_tweet_for_transformers(x))\n",
    "test_df  = test_df.loc[test_df.cleanedText != '']\n",
    "\n",
    "test_x = tokenizer(\n",
    "    text=test_df['cleanedText'].astype(str).to_list(),\n",
    "    add_special_tokens=True,\n",
    "    max_length=max_length,\n",
    "    truncation=True,\n",
    "    padding=True, \n",
    "    return_tensors='tf',\n",
    "    return_token_type_ids = False,\n",
    "    return_attention_mask = True,\n",
    "    verbose = True)"
   ]
  },
  {
   "cell_type": "markdown",
   "id": "7abcd9bf-e7f2-4092-bded-21c51a281606",
   "metadata": {},
   "source": [
    "### Evaluation"
   ]
  },
  {
   "cell_type": "code",
   "execution_count": 11,
   "id": "6db09256-2087-40f3-b3bd-934dcdcdc756",
   "metadata": {},
   "outputs": [
    {
     "name": "stdout",
     "output_type": "stream",
     "text": [
      "592/592 [==============================] - 34s 57ms/step - loss: 0.3046 - accuracy: 0.8669\n",
      "Test loss: 0.30461299419403076\n",
      "Test accuracy 0.8668640851974487\n",
      "\n",
      "Classification report : \n",
      "               precision    recall  f1-score   support\n",
      "\n",
      "no-clickbait       0.91      0.92      0.91     14455\n",
      "   clickbait       0.73      0.70      0.71      4458\n",
      "\n",
      "    accuracy                           0.87     18913\n",
      "   macro avg       0.82      0.81      0.81     18913\n",
      "weighted avg       0.87      0.87      0.87     18913\n",
      "\n"
     ]
    }
   ],
   "source": [
    "##Evaluate BERT model\n",
    "y_test = test_df.label.values\n",
    "predictions = evaluate_model(model, {'input_ids': test_x['input_ids'], 'attention_mask': test_x['attention_mask']}, y_test, threshold = 0.5)\n",
    "##Get Classification report\n",
    "classes = ['no-clickbait', 'clickbait']\n",
    "print(\"\\nClassification report : \\n\", classification_report(y_test, predictions, zero_division = 0, target_names=classes))"
   ]
  },
  {
   "cell_type": "code",
   "execution_count": 12,
   "id": "fa999ca5-404c-4c85-9559-c2674eb7bdc3",
   "metadata": {},
   "outputs": [
    {
     "data": {
      "text/plain": [
       "<sklearn.metrics._plot.confusion_matrix.ConfusionMatrixDisplay at 0x7faecfbd3510>"
      ]
     },
     "execution_count": 12,
     "metadata": {},
     "output_type": "execute_result"
    },
    {
     "data": {
      "image/png": "[encoded data removed]",
      "text/plain": [
       "<Figure size 432x288 with 2 Axes>"
      ]
     },
     "metadata": {
      "needs_background": "light"
     },
     "output_type": "display_data"
    }
   ],
   "source": [
    "##Get Confusion Matrix\n",
    "cm = confusion_matrix(y_test, predictions)\n",
    "cmd = ConfusionMatrixDisplay(cm, display_labels=classes)\n",
    "cmd.plot()"
   ]
  },
  {
   "cell_type": "code",
   "execution_count": 13,
   "id": "b4d2d23f-4c4a-44c3-baba-cf7a49c7d37c",
   "metadata": {},
   "outputs": [
    {
     "name": "stdout",
     "output_type": "stream",
     "text": [
      "Accuracy Score:  0.8668640617564638\n",
      "F1 Score:  0.7118333714808882\n",
      "Precision Score:  0.7266355140186916\n",
      "Recall Score:  0.6976222521310005\n"
     ]
    }
   ],
   "source": [
    "accuracy, f1, precision, recall = compute_metrics(y_test, predictions)"
   ]
  },
  {
   "cell_type": "code",
   "execution_count": 14,
   "id": "720f1f98-ce54-4a4a-8ffc-9b4bb5bc298a",
   "metadata": {},
   "outputs": [
    {
     "name": "stdout",
     "output_type": "stream",
     "text": [
      "WARNING:tensorflow:From /home/jovyan/.conda/envs/clickbait_detection/lib/python3.7/site-packages/tensorflow/python/training/tracking/tracking.py:111: Model.state_updates (from tensorflow.python.keras.engine.training) is deprecated and will be removed in a future version.\n",
      "Instructions for updating:\n",
      "This property should not be used in TensorFlow 2.0, as updates are applied automatically.\n",
      "WARNING:tensorflow:From /home/jovyan/.conda/envs/clickbait_detection/lib/python3.7/site-packages/tensorflow/python/training/tracking/tracking.py:111: Layer.updates (from tensorflow.python.keras.engine.base_layer) is deprecated and will be removed in a future version.\n",
      "Instructions for updating:\n",
      "This property should not be used in TensorFlow 2.0, as updates are applied automatically.\n",
      "INFO:tensorflow:Assets written to: ../trained_models/BERTs/bert_cased/assets\n"
     ]
    }
   ],
   "source": [
    "path = '../trained_models/BERT'\n",
    "if not os.path.isdir(path):\n",
    "    os.mkdir(path)\n",
    "\n",
    "##Save tokenizer to disk\n",
    "tokenizer.save_pretrained(path + \"/bert_cased\")\n",
    "##Save model to disk\n",
    "model.save(path + \"/bert_cased\",save_format='tf')"
   ]
  },
  {
   "cell_type": "code",
   "execution_count": 15,
   "id": "228a8b6b-83d9-4ee3-99aa-bc675716bb08",
   "metadata": {},
   "outputs": [],
   "source": [
    "#Save metrics and runtime\n",
    "name = 'bert_cased'\n",
    "write_metrics(name, accuracy, f1, precision, recall, runtime, results_path = '../trained_models', results_filename = 'results.csv')  "
   ]
  },
  {
   "cell_type": "markdown",
   "id": "e21d2314-f85b-40cd-8a36-ea1f36c43d7e",
   "metadata": {},
   "source": [
    "### Training with ClassWeights"
   ]
  },
  {
   "cell_type": "code",
   "execution_count": 16,
   "id": "4e16f8a4-650c-4706-a68b-85335753b4f1",
   "metadata": {},
   "outputs": [
    {
     "name": "stdout",
     "output_type": "stream",
     "text": [
      "Epoch 1/100\n",
      "122/122 [==============================] - 63s 518ms/step - loss: 0.3371 - accuracy: 0.8539 - val_loss: 0.4198 - val_accuracy: 0.8209\n",
      "Epoch 2/100\n",
      "122/122 [==============================] - 61s 500ms/step - loss: 0.2821 - accuracy: 0.8786 - val_loss: 0.4209 - val_accuracy: 0.8201\n",
      "Epoch 3/100\n",
      "122/122 [==============================] - 61s 503ms/step - loss: 0.2263 - accuracy: 0.9044 - val_loss: 0.3985 - val_accuracy: 0.8432\n",
      "Epoch 4/100\n",
      "122/122 [==============================] - 61s 502ms/step - loss: 0.1729 - accuracy: 0.9273 - val_loss: 0.5053 - val_accuracy: 0.8232\n",
      "Epoch 5/100\n",
      "122/122 [==============================] - 61s 502ms/step - loss: 0.1326 - accuracy: 0.9455 - val_loss: 0.4987 - val_accuracy: 0.8358\n",
      "Epoch 6/100\n",
      "122/122 [==============================] - ETA: 0s - loss: 0.0951 - accuracy: 0.9618\n",
      "Epoch 00006: ReduceLROnPlateau reducing learning rate to 1.9999999494757505e-06.\n",
      "122/122 [==============================] - 61s 502ms/step - loss: 0.0951 - accuracy: 0.9618 - val_loss: 0.5797 - val_accuracy: 0.8453\n",
      "Epoch 7/100\n",
      "122/122 [==============================] - 61s 502ms/step - loss: 0.0650 - accuracy: 0.9750 - val_loss: 0.6131 - val_accuracy: 0.8363\n",
      "Epoch 8/100\n",
      "122/122 [==============================] - ETA: 0s - loss: 0.0577 - accuracy: 0.9769Restoring model weights from the end of the best epoch.\n",
      "122/122 [==============================] - 62s 504ms/step - loss: 0.0577 - accuracy: 0.9769 - val_loss: 0.6201 - val_accuracy: 0.8386\n",
      "Epoch 00008: early stopping\n",
      "--- 508.9956941604614 seconds ---\n"
     ]
    },
    {
     "data": {
      "image/png": "[encoded data removed]",
      "text/plain": [
       "<Figure size 432x288 with 1 Axes>"
      ]
     },
     "metadata": {
      "needs_background": "light"
     },
     "output_type": "display_data"
    },
    {
     "data": {
      "image/png": "[encoded data removed]",
      "text/plain": [
       "<Figure size 432x288 with 1 Axes>"
      ]
     },
     "metadata": {
      "needs_background": "light"
     },
     "output_type": "display_data"
    }
   ],
   "source": [
    "##Build and train BERT model\n",
    "y_train = train_df.label.values\n",
    "model, history, runtime = train_model(model, {'input_ids': x['input_ids'], 'attention_mask': x['attention_mask']}, y_train, learning_rate=0.00001, epochs=100, batch_size=128, class_weights = class_weights)"
   ]
  },
  {
   "cell_type": "markdown",
   "id": "0248564c-6f65-4dc6-9845-f6d226340c36",
   "metadata": {},
   "source": [
    "### Evaluation"
   ]
  },
  {
   "cell_type": "code",
   "execution_count": 17,
   "id": "a7176733-41ba-471f-88b4-88df3cd4252c",
   "metadata": {},
   "outputs": [
    {
     "name": "stdout",
     "output_type": "stream",
     "text": [
      "592/592 [==============================] - 34s 58ms/step - loss: 0.3562 - accuracy: 0.8564\n",
      "Test loss: 0.35624226927757263\n",
      "Test accuracy 0.8563950657844543\n",
      "\n",
      "Classification report : \n",
      "               precision    recall  f1-score   support\n",
      "\n",
      "no-clickbait       0.92      0.88      0.90     14455\n",
      "   clickbait       0.67      0.77      0.72      4458\n",
      "\n",
      "    accuracy                           0.86     18913\n",
      "   macro avg       0.80      0.82      0.81     18913\n",
      "weighted avg       0.86      0.86      0.86     18913\n",
      "\n"
     ]
    }
   ],
   "source": [
    "##Evaluate BERT model\n",
    "predictions = evaluate_model(model, {'input_ids': test_x['input_ids'], 'attention_mask': test_x['attention_mask']}, y_test, threshold = 0.5)\n",
    "##Get Classification report\n",
    "classes = ['no-clickbait', 'clickbait']\n",
    "print(\"\\nClassification report : \\n\", classification_report(y_test, predictions, zero_division = 0, target_names=classes))"
   ]
  },
  {
   "cell_type": "code",
   "execution_count": 18,
   "id": "72597f48-e405-4fab-a52b-d1cf88274104",
   "metadata": {},
   "outputs": [
    {
     "data": {
      "text/plain": [
       "<sklearn.metrics._plot.confusion_matrix.ConfusionMatrixDisplay at 0x7facc4ab7290>"
      ]
     },
     "execution_count": 18,
     "metadata": {},
     "output_type": "execute_result"
    },
    {
     "data": {
      "image/png": "[encoded data removed]",
      "text/plain": [
       "<Figure size 432x288 with 2 Axes>"
      ]
     },
     "metadata": {
      "needs_background": "light"
     },
     "output_type": "display_data"
    }
   ],
   "source": [
    "##Get Confusion Matrix\n",
    "cm = confusion_matrix(y_test, predictions)\n",
    "cmd = ConfusionMatrixDisplay(cm, display_labels=classes)\n",
    "cmd.plot()"
   ]
  },
  {
   "cell_type": "code",
   "execution_count": 19,
   "id": "48680e27-a29d-4916-8885-9b8e45280325",
   "metadata": {},
   "outputs": [
    {
     "name": "stdout",
     "output_type": "stream",
     "text": [
      "Accuracy Score:  0.8563950721725797\n",
      "F1 Score:  0.7153636554181513\n",
      "Precision Score:  0.6713217938630999\n",
      "Recall Score:  0.7655899506505159\n"
     ]
    }
   ],
   "source": [
    "accuracy, f1, precision, recall = compute_metrics(y_test, predictions)"
   ]
  },
  {
   "cell_type": "code",
   "execution_count": 21,
   "id": "683ab704-af25-4022-a06e-5e04eefa8639",
   "metadata": {},
   "outputs": [
    {
     "name": "stdout",
     "output_type": "stream",
     "text": [
      "INFO:tensorflow:Assets written to: ../trained_models/BERTs/bert_cased_classWeigths/assets\n"
     ]
    }
   ],
   "source": [
    "path = '../trained_models/BERT'\n",
    "if not os.path.isdir(path):\n",
    "    os.mkdir(path)\n",
    "\n",
    "##Save tokenizer to disk\n",
    "tokenizer.save_pretrained(path + \"/bert_cased_classWeigths\")\n",
    "##Save model to disk\n",
    "model.save(path + \"/bert_cased_classWeigths\",save_format='tf')"
   ]
  },
  {
   "cell_type": "code",
   "execution_count": 22,
   "id": "48752554-f6ab-4d9f-a21a-dc2d9d1f588c",
   "metadata": {},
   "outputs": [],
   "source": [
    "#Save metrics  and runtime\n",
    "name = 'bert_cased_classWeigths'\n",
    "write_metrics(name, accuracy, f1, precision, recall, runtime, results_path = '../trained_models', results_filename = 'results.csv')  "
   ]
  },
  {
   "cell_type": "code",
   "execution_count": null,
   "id": "f298c069-b052-4354-94ab-7eff598c88c5",
   "metadata": {},
   "outputs": [],
   "source": []
  }
 ],
 "metadata": {
  "kernelspec": {
   "display_name": "Python [conda env:.conda-clickbait_detection]",
   "language": "python",
   "name": "conda-env-.conda-clickbait_detection-py"
  },
  "language_info": {
   "codemirror_mode": {
    "name": "ipython",
    "version": 3
   },
   "file_extension": ".py",
   "mimetype": "text/x-python",
   "name": "python",
   "nbconvert_exporter": "python",
   "pygments_lexer": "ipython3",
   "version": "3.7.11"
  }
 },
 "nbformat": 4,
 "nbformat_minor": 5
}
