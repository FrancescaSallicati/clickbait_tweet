{
 "cells": [
  {
   "cell_type": "markdown",
   "id": "8285fee0-1a40-4ee7-801f-5e140bdc6ca4",
   "metadata": {},
   "source": [
    "# Imports"
   ]
  },
  {
   "cell_type": "code",
   "execution_count": 1,
   "id": "cb3801bd-8bc5-4ee6-971d-85b062f51a0d",
   "metadata": {},
   "outputs": [
    {
     "name": "stderr",
     "output_type": "stream",
     "text": [
      "/home/jovyan/.conda/envs/clickbait_detection/lib/python3.7/site-packages/tqdm/auto.py:22: TqdmWarning: IProgress not found. Please update jupyter and ipywidgets. See https://ipywidgets.readthedocs.io/en/stable/user_install.html\n",
      "  from .autonotebook import tqdm as notebook_tqdm\n"
     ]
    }
   ],
   "source": [
    "import pandas as pd\n",
    "import numpy as np\n",
    "import timeit\n",
    "import os\n",
    "import sys\n",
    "import os\n",
    "import json\n",
    "sys.path.append(\"..\")\n",
    "\n",
    "import tensorflow as tf\n",
    "from sklearn.metrics import classification_report\n",
    "from sklearn.metrics import confusion_matrix, ConfusionMatrixDisplay\n",
    "from sklearn.utils import class_weight,compute_class_weight\n",
    "import matplotlib.pyplot as plt\n",
    "from transformers import BertTokenizer, TFBertModel\n",
    "\n",
    "from src.utils import write_metrics\n",
    "from src.preprocessing import clean_tweet_for_transformers\n",
    "from src.utils import read_data\n",
    "from src.utils import plot_result\n",
    "from src.utils import train_model, evaluate_model\n",
    "from src.utils import compute_metrics\n",
    "from src.utils import set_seed\n",
    "#set_seed(20042022)\n"
   ]
  },
  {
   "cell_type": "markdown",
   "id": "8e44065e-92fe-45be-88a8-614f767696ba",
   "metadata": {},
   "source": [
    "# Load Training Dataset"
   ]
  },
  {
   "cell_type": "code",
   "execution_count": 2,
   "id": "1aee3e8d-b530-47a9-b870-ed037c4f549a",
   "metadata": {
    "colab": {
     "base_uri": "https://localhost:8080/",
     "height": 1000
    },
    "executionInfo": {
     "elapsed": 4128,
     "status": "ok",
     "timestamp": 1650611165000,
     "user": {
      "displayName": "Francesca Sallicati",
      "userId": "05696714463884583021"
     },
     "user_tz": -120
    },
    "id": "bseCIdNI-8P6",
    "outputId": "50b0a12d-cf23-4640-9986-b9536a5d3cf9"
   },
   "outputs": [],
   "source": [
    "#Load trainig dataset\n",
    "filename = '../data/webis_train.csv'\n",
    "train_df = read_data(filename)"
   ]
  },
  {
   "cell_type": "markdown",
   "id": "3fb08010-8ce9-44f3-9130-139029afdb81",
   "metadata": {},
   "source": [
    "# Cleaning Tweets"
   ]
  },
  {
   "cell_type": "code",
   "execution_count": 3,
   "id": "bf3e876f-5bd3-4550-88ac-2315d85d2960",
   "metadata": {
    "colab": {
     "base_uri": "https://localhost:8080/",
     "height": 1000
    },
    "executionInfo": {
     "elapsed": 13898,
     "status": "ok",
     "timestamp": 1650611186855,
     "user": {
      "displayName": "Francesca Sallicati",
      "userId": "05696714463884583021"
     },
     "user_tz": -120
    },
    "id": "nDCIci2PCDvn",
    "outputId": "43545ed5-0b56-4b4b-9ecd-c84d0feacfd6",
    "tags": []
   },
   "outputs": [],
   "source": [
    "#Apply cleaning funcitons to tweets\n",
    "train_df['cleanedText'] = train_df.postText.apply(lambda x: clean_tweet_for_transformers(x))\n",
    "##Make sure that no empty string remains in 'cleanedText'\n",
    "train_df  = train_df.loc[train_df.cleanedText != '']"
   ]
  },
  {
   "cell_type": "markdown",
   "id": "cefe21dd-e2cb-4d57-9e9e-a3d0ec0c3897",
   "metadata": {},
   "source": [
    "## Plot cleaned tweet lenght distribution"
   ]
  },
  {
   "cell_type": "code",
   "execution_count": 4,
   "id": "fb31a15e-408c-4cb8-b69b-894fa46cfdd1",
   "metadata": {
    "colab": {
     "base_uri": "https://localhost:8080/",
     "height": 459
    },
    "executionInfo": {
     "elapsed": 1853,
     "status": "ok",
     "timestamp": 1650611188691,
     "user": {
      "displayName": "Francesca Sallicati",
      "userId": "05696714463884583021"
     },
     "user_tz": -120
    },
    "id": "CezsgjO9CDvo",
    "outputId": "84c5a767-3476-4a40-d86b-cf36fc514927"
   },
   "outputs": [
    {
     "name": "stdout",
     "output_type": "stream",
     "text": [
      "21.0\n"
     ]
    },
    {
     "data": {
      "image/png": "[encoded data removed]",
      "text/plain": [
       "<Figure size 504x504 with 1 Axes>"
      ]
     },
     "metadata": {
      "needs_background": "light"
     },
     "output_type": "display_data"
    }
   ],
   "source": [
    "lenghts =  [len(x) for x in train_df['cleanedText'].str.split()]\n",
    "percentile = np.percentile(lenghts,95)\n",
    "print(percentile)\n",
    "\n",
    "# Plot histogram of tweets lenght distribution in order to define the max_len parameter for the model\n",
    "plt.figure(figsize=(7, 7))\n",
    "plt.hist(lenghts, bins=25)\n",
    "plt.xlabel('Number of tokens in cleaned tweets')\n",
    "plt.ylabel('Count')\n",
    "plt.show()"
   ]
  },
  {
   "cell_type": "markdown",
   "id": "07e491e5-6aaa-4615-bf6b-7039ea360505",
   "metadata": {},
   "source": [
    "## Compute Class Weights"
   ]
  },
  {
   "cell_type": "code",
   "execution_count": 5,
   "id": "6f8b69cf-7fb4-4505-a534-2642e53e9ebb",
   "metadata": {
    "id": "ezSqxLkJCDvq"
   },
   "outputs": [
    {
     "name": "stdout",
     "output_type": "stream",
     "text": [
      "{0: 0.6596695557963164, 1: 2.0657336726039017}\n"
     ]
    }
   ],
   "source": [
    "##Calculate class_weights to attenuate the unbalanced classification problem \n",
    "y_train = train_df.truthClass.values\n",
    "class_weights = compute_class_weight(\n",
    "                                        class_weight = \"balanced\",\n",
    "                                        classes = ['no-clickbait', 'clickbait'],\n",
    "                                        y = y_train                                                   \n",
    "                                    )\n",
    "\n",
    "class_weights = dict(zip([0,1], class_weights))\n",
    "print(class_weights)"
   ]
  },
  {
   "cell_type": "markdown",
   "id": "04f50adc-7647-4bff-b08e-8aa1fd2803fb",
   "metadata": {},
   "source": [
    "# Model definition - BERT (uncased)"
   ]
  },
  {
   "cell_type": "code",
   "execution_count": 6,
   "id": "6a2a6855-1406-4488-a38c-1bc2f70a5810",
   "metadata": {
    "colab": {
     "base_uri": "https://localhost:8080/"
    },
    "executionInfo": {
     "elapsed": 11290,
     "status": "ok",
     "timestamp": 1650611276982,
     "user": {
      "displayName": "Francesca Sallicati",
      "userId": "05696714463884583021"
     },
     "user_tz": -120
    },
    "id": "x18XwY18wXxK",
    "outputId": "6ef86627-048e-4a8f-c1a9-1b216faaa75a",
    "tags": []
   },
   "outputs": [
    {
     "name": "stderr",
     "output_type": "stream",
     "text": [
      "Some layers from the model checkpoint at bert-base-uncased were not used when initializing TFBertModel: ['nsp___cls', 'mlm___cls']\n",
      "- This IS expected if you are initializing TFBertModel from the checkpoint of a model trained on another task or with another architecture (e.g. initializing a BertForSequenceClassification model from a BertForPreTraining model).\n",
      "- This IS NOT expected if you are initializing TFBertModel from the checkpoint of a model that you expect to be exactly identical (initializing a BertForSequenceClassification model from a BertForSequenceClassification model).\n",
      "All the layers of TFBertModel were initialized from the model checkpoint at bert-base-uncased.\n",
      "If your task is similar to the task the model of the checkpoint was trained on, you can already use TFBertModel for predictions without further training.\n"
     ]
    },
    {
     "name": "stdout",
     "output_type": "stream",
     "text": [
      "Model: \"BERTweet\"\n",
      "__________________________________________________________________________________________________\n",
      "Layer (type)                    Output Shape         Param #     Connected to                     \n",
      "==================================================================================================\n",
      "attention_mask (InputLayer)     [(None, 40)]         0                                            \n",
      "__________________________________________________________________________________________________\n",
      "input_ids (InputLayer)          [(None, 40)]         0                                            \n",
      "__________________________________________________________________________________________________\n",
      "bert (TFBertMainLayer)          TFBaseModelOutputWit 109482240   attention_mask[0][0]             \n",
      "                                                                 input_ids[0][0]                  \n",
      "__________________________________________________________________________________________________\n",
      "pooled_output (Dropout)         (None, 768)          0           bert[0][1]                       \n",
      "__________________________________________________________________________________________________\n",
      "output (Dense)                  (None, 1)            769         pooled_output[0][0]              \n",
      "==================================================================================================\n",
      "Total params: 109,483,009\n",
      "Trainable params: 109,483,009\n",
      "Non-trainable params: 0\n",
      "__________________________________________________________________________________________________\n"
     ]
    }
   ],
   "source": [
    "max_length= 40\n",
    "#Setup BERT Model\n",
    "bert = TFBertModel.from_pretrained(\"bert-base-uncased\")\n",
    "bert = bert.layers[0]\n",
    "# Build model inputs\n",
    "input_ids = Input(shape=(max_length,), name='input_ids', dtype='int32')\n",
    "attention_mask = Input(shape=(max_length,), name='attention_mask', dtype='int32')\n",
    "inputs = {'input_ids': input_ids, 'attention_mask': attention_mask}\n",
    "# Load the Transformers BERT model as a layer into a Keras model\n",
    "bert = bert(inputs)[1]\n",
    "dropout = Dropout(0.2, name='pooled_output')\n",
    "pooled_output = dropout(bert, training=False)\n",
    "output = Dense(units=1, name='output', activation = 'sigmoid')(pooled_output)\n",
    "model = Model(inputs=inputs, outputs=output, name='BERTweet')\n",
    "model.summary()"
   ]
  },
  {
   "cell_type": "markdown",
   "id": "be6670cf-70f9-4f9c-af5a-7e682655dbe7",
   "metadata": {},
   "source": [
    "## Tokenizer definition - BERT (uncased)"
   ]
  },
  {
   "cell_type": "code",
   "execution_count": 7,
   "id": "86d52ad2-8cd9-400a-aeb6-8645d5b21e73",
   "metadata": {},
   "outputs": [],
   "source": [
    "#Apply tokenizer to training data\n",
    "tokenizer = BertTokenizer.from_pretrained('bert-base-uncased')\n",
    "\n",
    "x = tokenizer(\n",
    "    text=train_df['cleanedText'].astype(str).to_list(),\n",
    "    add_special_tokens=True,\n",
    "    max_length=max_length,\n",
    "    truncation=True,\n",
    "    padding=True, \n",
    "    return_tensors='tf',\n",
    "    return_token_type_ids = False,\n",
    "    return_attention_mask = True,\n",
    "    verbose = True)"
   ]
  },
  {
   "cell_type": "markdown",
   "id": "988ad442-4de0-42c0-b35b-62c39344e81d",
   "metadata": {},
   "source": [
    "### Training"
   ]
  },
  {
   "cell_type": "code",
   "execution_count": 8,
   "id": "94ce2f38-826a-4074-98b3-3673d20ca94c",
   "metadata": {},
   "outputs": [
    {
     "name": "stdout",
     "output_type": "stream",
     "text": [
      "Epoch 1/100\n",
      "122/122 [==============================] - 63s 516ms/step - loss: 0.4403 - accuracy: 0.7944 - val_loss: 0.3450 - val_accuracy: 0.8486\n",
      "Epoch 2/100\n",
      "122/122 [==============================] - 61s 502ms/step - loss: 0.3300 - accuracy: 0.8580 - val_loss: 0.3399 - val_accuracy: 0.8460\n",
      "Epoch 3/100\n",
      "122/122 [==============================] - 61s 502ms/step - loss: 0.2952 - accuracy: 0.8747 - val_loss: 0.3338 - val_accuracy: 0.8535\n",
      "Epoch 4/100\n",
      "122/122 [==============================] - 61s 501ms/step - loss: 0.2614 - accuracy: 0.8890 - val_loss: 0.3519 - val_accuracy: 0.8463\n",
      "Epoch 5/100\n",
      "122/122 [==============================] - 61s 502ms/step - loss: 0.2223 - accuracy: 0.9084 - val_loss: 0.3870 - val_accuracy: 0.8519\n",
      "Epoch 6/100\n",
      "122/122 [==============================] - ETA: 0s - loss: 0.1786 - accuracy: 0.9300\n",
      "Epoch 00006: ReduceLROnPlateau reducing learning rate to 1.9999999494757505e-06.\n",
      "122/122 [==============================] - 61s 502ms/step - loss: 0.1786 - accuracy: 0.9300 - val_loss: 0.4162 - val_accuracy: 0.8430\n",
      "Epoch 7/100\n",
      "122/122 [==============================] - 61s 503ms/step - loss: 0.1281 - accuracy: 0.9535 - val_loss: 0.4543 - val_accuracy: 0.8401\n",
      "Epoch 8/100\n",
      "122/122 [==============================] - ETA: 0s - loss: 0.1139 - accuracy: 0.9588Restoring model weights from the end of the best epoch.\n",
      "122/122 [==============================] - 62s 504ms/step - loss: 0.1139 - accuracy: 0.9588 - val_loss: 0.4686 - val_accuracy: 0.8383\n",
      "Epoch 00008: early stopping\n",
      "--- 508.29084038734436 seconds ---\n"
     ]
    },
    {
     "data": {
      "image/png": "[encoded data removed]",
      "text/plain": [
       "<Figure size 432x288 with 1 Axes>"
      ]
     },
     "metadata": {
      "needs_background": "light"
     },
     "output_type": "display_data"
    },
    {
     "data": {
      "image/png": "[encoded data removed]",
      "text/plain": [
       "<Figure size 432x288 with 1 Axes>"
      ]
     },
     "metadata": {
      "needs_background": "light"
     },
     "output_type": "display_data"
    }
   ],
   "source": [
    "##Build and train BERT model\n",
    "y_train = train_df.label.values\n",
    "model, history, runtime = train_model(model, {'input_ids': x['input_ids'], 'attention_mask': x['attention_mask']}, y_train, learning_rate=0.00001, epochs=100, batch_size=128)"
   ]
  },
  {
   "cell_type": "markdown",
   "id": "0a49c923-c123-4810-83bd-e6e8a1c647b7",
   "metadata": {},
   "source": [
    "### Load Test Dataset"
   ]
  },
  {
   "cell_type": "code",
   "execution_count": 9,
   "id": "fcc94cfa-58e7-4ce8-a307-1457928bec23",
   "metadata": {},
   "outputs": [],
   "source": [
    "# Load test dataset\n",
    "filename = '../data/webis_test.csv'\n",
    "test_df = read_data(filename)"
   ]
  },
  {
   "cell_type": "code",
   "execution_count": 10,
   "id": "37364348-8b72-4d9a-871a-bb472521efb6",
   "metadata": {},
   "outputs": [],
   "source": [
    "max_seq_len = 40\n",
    "#Apply same preprocessing and tokenizer to test dataset tweets\n",
    "test_df['cleanedText'] = test_df.postText.apply(lambda x: clean_tweet_for_transformers(x))\n",
    "test_df  = test_df.loc[test_df.cleanedText != '']\n",
    "\n",
    "test_x = tokenizer(\n",
    "    text=test_df['cleanedText'].astype(str).to_list(),\n",
    "    add_special_tokens=True,\n",
    "    max_length=max_length,\n",
    "    truncation=True,\n",
    "    padding=True, \n",
    "    return_tensors='tf',\n",
    "    return_token_type_ids = False,\n",
    "    return_attention_mask = True,\n",
    "    verbose = True)"
   ]
  },
  {
   "cell_type": "markdown",
   "id": "7abcd9bf-e7f2-4092-bded-21c51a281606",
   "metadata": {},
   "source": [
    "### Evaluation"
   ]
  },
  {
   "cell_type": "code",
   "execution_count": 11,
   "id": "6db09256-2087-40f3-b3bd-934dcdcdc756",
   "metadata": {},
   "outputs": [
    {
     "name": "stdout",
     "output_type": "stream",
     "text": [
      "592/592 [==============================] - 33s 56ms/step - loss: 0.3018 - accuracy: 0.8690\n",
      "Test loss: 0.3017791509628296\n",
      "Test accuracy 0.8690319061279297\n",
      "\n",
      "Classification report : \n",
      "               precision    recall  f1-score   support\n",
      "\n",
      "no-clickbait       0.91      0.92      0.91     14455\n",
      "   clickbait       0.73      0.70      0.72      4458\n",
      "\n",
      "    accuracy                           0.87     18913\n",
      "   macro avg       0.82      0.81      0.82     18913\n",
      "weighted avg       0.87      0.87      0.87     18913\n",
      "\n"
     ]
    }
   ],
   "source": [
    "##Evaluate BERT model\n",
    "y_test = test_df.label.values\n",
    "predictions = evaluate_model(model, {'input_ids': test_x['input_ids'], 'attention_mask': test_x['attention_mask']}, y_test, threshold = 0.5)\n",
    "##Get Classification report\n",
    "classes = ['no-clickbait', 'clickbait']\n",
    "print(\"\\nClassification report : \\n\", classification_report(y_test, predictions, zero_division = 0, target_names=classes))"
   ]
  },
  {
   "cell_type": "code",
   "execution_count": 12,
   "id": "fa999ca5-404c-4c85-9559-c2674eb7bdc3",
   "metadata": {},
   "outputs": [
    {
     "data": {
      "text/plain": [
       "<sklearn.metrics._plot.confusion_matrix.ConfusionMatrixDisplay at 0x7f82924abed0>"
      ]
     },
     "execution_count": 12,
     "metadata": {},
     "output_type": "execute_result"
    },
    {
     "data": {
      "image/png": "[encoded data removed]",
      "text/plain": [
       "<Figure size 432x288 with 2 Axes>"
      ]
     },
     "metadata": {
      "needs_background": "light"
     },
     "output_type": "display_data"
    }
   ],
   "source": [
    "##Get Confusion Matrix\n",
    "cm = confusion_matrix(y_test, predictions)\n",
    "cmd = ConfusionMatrixDisplay(cm, display_labels=classes)\n",
    "cmd.plot()"
   ]
  },
  {
   "cell_type": "code",
   "execution_count": 13,
   "id": "b4d2d23f-4c4a-44c3-baba-cf7a49c7d37c",
   "metadata": {},
   "outputs": [
    {
     "name": "stdout",
     "output_type": "stream",
     "text": [
      "Accuracy Score:  0.8690318828319146\n",
      "F1 Score:  0.7170113104078603\n",
      "Precision Score:  0.730616996507567\n",
      "Recall Score:  0.7039030955585465\n"
     ]
    }
   ],
   "source": [
    "accuracy, f1, precision, recall = compute_metrics(y_test, predictions)"
   ]
  },
  {
   "cell_type": "code",
   "execution_count": 14,
   "id": "720f1f98-ce54-4a4a-8ffc-9b4bb5bc298a",
   "metadata": {},
   "outputs": [
    {
     "name": "stdout",
     "output_type": "stream",
     "text": [
      "WARNING:tensorflow:From /home/jovyan/.conda/envs/clickbait_detection/lib/python3.7/site-packages/tensorflow/python/training/tracking/tracking.py:111: Model.state_updates (from tensorflow.python.keras.engine.training) is deprecated and will be removed in a future version.\n",
      "Instructions for updating:\n",
      "This property should not be used in TensorFlow 2.0, as updates are applied automatically.\n",
      "WARNING:tensorflow:From /home/jovyan/.conda/envs/clickbait_detection/lib/python3.7/site-packages/tensorflow/python/training/tracking/tracking.py:111: Layer.updates (from tensorflow.python.keras.engine.base_layer) is deprecated and will be removed in a future version.\n",
      "Instructions for updating:\n",
      "This property should not be used in TensorFlow 2.0, as updates are applied automatically.\n",
      "INFO:tensorflow:Assets written to: ../trained_models/BERTs/bert_uncased/assets\n"
     ]
    }
   ],
   "source": [
    "path = '../trained_models/BERT'\n",
    "if not os.path.isdir(path):\n",
    "    os.mkdir(path)\n",
    "\n",
    "##Save tokenizer to disk\n",
    "tokenizer.save_pretrained(path + \"/bert_uncased\")\n",
    "##Save model to disk\n",
    "model.save(path + \"/bert_uncased\",save_format='tf')"
   ]
  },
  {
   "cell_type": "code",
   "execution_count": 15,
   "id": "228a8b6b-83d9-4ee3-99aa-bc675716bb08",
   "metadata": {},
   "outputs": [],
   "source": [
    "#Save metrics and runtime\n",
    "name = 'bert_uncased'\n",
    "write_metrics(name, accuracy, f1, precision, recall, runtime, results_path = '../trained_models', results_filename = 'results.csv')  "
   ]
  },
  {
   "cell_type": "markdown",
   "id": "e21d2314-f85b-40cd-8a36-ea1f36c43d7e",
   "metadata": {},
   "source": [
    "### Training with ClassWeights"
   ]
  },
  {
   "cell_type": "code",
   "execution_count": 16,
   "id": "4e16f8a4-650c-4706-a68b-85335753b4f1",
   "metadata": {},
   "outputs": [
    {
     "name": "stdout",
     "output_type": "stream",
     "text": [
      "Epoch 1/100\n",
      "122/122 [==============================] - 63s 520ms/step - loss: 0.3172 - accuracy: 0.8600 - val_loss: 0.3800 - val_accuracy: 0.8340\n",
      "Epoch 2/100\n",
      "122/122 [==============================] - 61s 500ms/step - loss: 0.2637 - accuracy: 0.8873 - val_loss: 0.4821 - val_accuracy: 0.7927\n",
      "Epoch 3/100\n",
      "122/122 [==============================] - 61s 501ms/step - loss: 0.2156 - accuracy: 0.9050 - val_loss: 0.4505 - val_accuracy: 0.8332\n",
      "Epoch 4/100\n",
      "122/122 [==============================] - ETA: 0s - loss: 0.1692 - accuracy: 0.9270\n",
      "Epoch 00004: ReduceLROnPlateau reducing learning rate to 1.9999999494757505e-06.\n",
      "122/122 [==============================] - 61s 502ms/step - loss: 0.1692 - accuracy: 0.9270 - val_loss: 0.5508 - val_accuracy: 0.8019\n",
      "Epoch 5/100\n",
      "122/122 [==============================] - 61s 503ms/step - loss: 0.1302 - accuracy: 0.9460 - val_loss: 0.5058 - val_accuracy: 0.8340\n",
      "Epoch 6/100\n",
      "122/122 [==============================] - ETA: 0s - loss: 0.1216 - accuracy: 0.9514Restoring model weights from the end of the best epoch.\n",
      "122/122 [==============================] - 62s 504ms/step - loss: 0.1216 - accuracy: 0.9514 - val_loss: 0.5264 - val_accuracy: 0.8319\n",
      "Epoch 00006: early stopping\n",
      "--- 385.98862648010254 seconds ---\n"
     ]
    },
    {
     "data": {
      "image/png": "[encoded data removed]",
      "text/plain": [
       "<Figure size 432x288 with 1 Axes>"
      ]
     },
     "metadata": {
      "needs_background": "light"
     },
     "output_type": "display_data"
    },
    {
     "data": {
      "image/png": "[encoded data removed]",
      "text/plain": [
       "<Figure size 432x288 with 1 Axes>"
      ]
     },
     "metadata": {
      "needs_background": "light"
     },
     "output_type": "display_data"
    }
   ],
   "source": [
    "##Build and train BERT model\n",
    "y_train = train_df.label.values\n",
    "model, history, runtime = train_model(model, {'input_ids': x['input_ids'], 'attention_mask': x['attention_mask']}, y_train, learning_rate=0.00001, epochs=100, batch_size=128, class_weights = class_weights)"
   ]
  },
  {
   "cell_type": "markdown",
   "id": "0248564c-6f65-4dc6-9845-f6d226340c36",
   "metadata": {},
   "source": [
    "### Evaluation"
   ]
  },
  {
   "cell_type": "code",
   "execution_count": 17,
   "id": "a7176733-41ba-471f-88b4-88df3cd4252c",
   "metadata": {},
   "outputs": [
    {
     "name": "stdout",
     "output_type": "stream",
     "text": [
      "592/592 [==============================] - 34s 57ms/step - loss: 0.3455 - accuracy: 0.8509\n",
      "Test loss: 0.3455093204975128\n",
      "Test accuracy 0.8509491086006165\n",
      "\n",
      "Classification report : \n",
      "               precision    recall  f1-score   support\n",
      "\n",
      "no-clickbait       0.94      0.86      0.90     14455\n",
      "   clickbait       0.65      0.81      0.72      4458\n",
      "\n",
      "    accuracy                           0.85     18913\n",
      "   macro avg       0.79      0.84      0.81     18913\n",
      "weighted avg       0.87      0.85      0.86     18913\n",
      "\n"
     ]
    }
   ],
   "source": [
    "##Evaluate BERT model\n",
    "predictions = evaluate_model(model, {'input_ids': test_x['input_ids'], 'attention_mask': test_x['attention_mask']}, y_test, threshold = 0.5)\n",
    "##Get Classification report\n",
    "classes = ['no-clickbait', 'clickbait']\n",
    "print(\"\\nClassification report : \\n\", classification_report(y_test, predictions, zero_division = 0, target_names=classes))"
   ]
  },
  {
   "cell_type": "code",
   "execution_count": 18,
   "id": "72597f48-e405-4fab-a52b-d1cf88274104",
   "metadata": {},
   "outputs": [
    {
     "data": {
      "text/plain": [
       "<sklearn.metrics._plot.confusion_matrix.ConfusionMatrixDisplay at 0x7f7fcf652850>"
      ]
     },
     "execution_count": 18,
     "metadata": {},
     "output_type": "execute_result"
    },
    {
     "data": {
      "image/png": "[encoded data removed]",
      "text/plain": [
       "<Figure size 432x288 with 2 Axes>"
      ]
     },
     "metadata": {
      "needs_background": "light"
     },
     "output_type": "display_data"
    }
   ],
   "source": [
    "##Get Confusion Matrix\n",
    "cm = confusion_matrix(y_test, predictions)\n",
    "cmd = ConfusionMatrixDisplay(cm, display_labels=classes)\n",
    "cmd.plot()"
   ]
  },
  {
   "cell_type": "code",
   "execution_count": 19,
   "id": "48680e27-a29d-4916-8885-9b8e45280325",
   "metadata": {},
   "outputs": [
    {
     "name": "stdout",
     "output_type": "stream",
     "text": [
      "Accuracy Score:  0.8509490826415693\n",
      "F1 Score:  0.7199761597298103\n",
      "Precision Score:  0.6461044749509717\n",
      "Recall Score:  0.8129205921938089\n"
     ]
    }
   ],
   "source": [
    "accuracy, f1, precision, recall = compute_metrics(y_test, predictions)"
   ]
  },
  {
   "cell_type": "code",
   "execution_count": 20,
   "id": "683ab704-af25-4022-a06e-5e04eefa8639",
   "metadata": {},
   "outputs": [
    {
     "name": "stdout",
     "output_type": "stream",
     "text": [
      "INFO:tensorflow:Assets written to: ../trained_models/BERTs/bert_uncased_classWeigths/assets\n"
     ]
    }
   ],
   "source": [
    "path = '../trained_models/BERT'\n",
    "if not os.path.isdir(path):\n",
    "    os.mkdir(path)\n",
    "\n",
    "##Save tokenizer to disk\n",
    "tokenizer.save_pretrained(path + \"/bert_uncased_classWeigths\")\n",
    "##Save model to disk\n",
    "model.save(path + \"/bert_uncased_classWeigths\",save_format='tf')"
   ]
  },
  {
   "cell_type": "code",
   "execution_count": 21,
   "id": "48752554-f6ab-4d9f-a21a-dc2d9d1f588c",
   "metadata": {},
   "outputs": [],
   "source": [
    "#Save metrics and runtime\n",
    "name = 'bert_uncased_classWeigths'\n",
    "write_metrics(name, accuracy, f1, precision, recall, runtime, results_path = '../trained_models', results_filename = 'results.csv')  "
   ]
  }
 ],
 "metadata": {
  "kernelspec": {
   "display_name": "Python [conda env:.conda-clickbait_detection]",
   "language": "python",
   "name": "conda-env-.conda-clickbait_detection-py"
  },
  "language_info": {
   "codemirror_mode": {
    "name": "ipython",
    "version": 3
   },
   "file_extension": ".py",
   "mimetype": "text/x-python",
   "name": "python",
   "nbconvert_exporter": "python",
   "pygments_lexer": "ipython3",
   "version": "3.7.11"
  }
 },
 "nbformat": 4,
 "nbformat_minor": 5
}
