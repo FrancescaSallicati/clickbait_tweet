{
 "cells": [
  {
   "cell_type": "markdown",
   "id": "64289f50-c8ac-4e07-b036-b168d7b0cdcc",
   "metadata": {},
   "source": [
    "# Imports"
   ]
  },
  {
   "cell_type": "code",
   "execution_count": 16,
   "id": "2e251ada-d4ab-403b-8917-716ed0a83f38",
   "metadata": {},
   "outputs": [],
   "source": [
    "import pandas as pd\n",
    "import numpy as np\n",
    "import os\n",
    "import json\n",
    "import sys\n",
    "sys.path.append(\"..\")\n",
    "\n",
    "import tensorflow as tf\n",
    "\n",
    "from sklearn.metrics import classification_report\n",
    "from sklearn.metrics import confusion_matrix, ConfusionMatrixDisplay\n",
    "from sklearn.metrics import roc_curve, auc\n",
    "from sklearn.metrics import roc_auc_score\n",
    "import matplotlib.pyplot as plt\n",
    "\n",
    "from src.preprocessing import clean_tweet_for_transformers\n",
    "from src.utils import read_data\n",
    "from src.utils import evaluate_model, compute_metrics\n",
    "from src.utils import set_seed\n",
    "#set_seed(20042022)\n",
    "\n",
    "from transformers import TFAutoModel,AutoTokenizer"
   ]
  },
  {
   "cell_type": "markdown",
   "id": "3a039a7d-93f6-475f-989a-664247f1203e",
   "metadata": {},
   "source": [
    "## Load results.csv"
   ]
  },
  {
   "cell_type": "markdown",
   "id": "34633d3b-a1e0-45ee-acdb-0fa5555a21fe",
   "metadata": {},
   "source": [
    "## Metrics\n",
    "\n",
    "The metrics used to assess this task are some of the most commonly used to evaluate binary classification problems: <br />\n",
    "- **Accuracy**: Accuracy measures the ratio of correctly predicted observation to the total observations. <br />\n",
    "-**F1 score**:F1 Score is the weighted average of Precision and Recall. It is usually more useful than accuracy, especially with unbalanced class distribution, like in our case. <br />\n",
    "-**Precision**: Precision is the fraction of positive instances among all retrieved instances <br />\n",
    "-**Recall**: Recall is defined as the fraction of retrieved instances among all relevant instances from the positive class. <br />\n",
    "\n",
    "It is worth remembering that our dataset is unbalanced, therefore is it advisable to favour f1 score rather than acuracy when selecting the best model architecture."
   ]
  },
  {
   "cell_type": "code",
   "execution_count": 8,
   "id": "842538a7-f872-426c-9c8c-1e1a4a06be20",
   "metadata": {
    "tags": []
   },
   "outputs": [],
   "source": [
    "import pandas as pd\n",
    "\n",
    "df = pd.read_csv('../trained_models/results.csv')"
   ]
  },
  {
   "cell_type": "markdown",
   "id": "8a36aa68-142e-45e7-ac78-8ae24e16e795",
   "metadata": {},
   "source": [
    "The following tables shows the metrics obtained for the tested model architectures and the model runtime (trained with GPU).The training time grows significatively when fine-tuning transformers architecture to suit this tasks, but the models provide better results for this problem.  <br />\n",
    "\n",
    "For the neural networks models, three different architectures were trained, exploring simple CNN, LSTM and GRU models. These models have been trained both normally and with class weights to smoothing the unbalanced data. Among these three models, the best resulting model, namely the GRU architecture, is then used to explore transfer learning with fastText pretrained embeddings too, applying 2 different preprocessing functions. <br />"
   ]
  },
  {
   "cell_type": "code",
   "execution_count": 9,
   "id": "62dc7e82-0c94-4b68-8dde-469c96bd21f8",
   "metadata": {},
   "outputs": [
    {
     "data": {
      "text/html": [
       "<div>\n",
       "<style scoped>\n",
       "    .dataframe tbody tr th:only-of-type {\n",
       "        vertical-align: middle;\n",
       "    }\n",
       "\n",
       "    .dataframe tbody tr th {\n",
       "        vertical-align: top;\n",
       "    }\n",
       "\n",
       "    .dataframe thead th {\n",
       "        text-align: right;\n",
       "    }\n",
       "</style>\n",
       "<table border=\"1\" class=\"dataframe\">\n",
       "  <thead>\n",
       "    <tr style=\"text-align: right;\">\n",
       "      <th></th>\n",
       "      <th>model</th>\n",
       "      <th>accuracy</th>\n",
       "      <th>f1_score</th>\n",
       "      <th>precision</th>\n",
       "      <th>recall</th>\n",
       "      <th>runtime</th>\n",
       "    </tr>\n",
       "  </thead>\n",
       "  <tbody>\n",
       "    <tr>\n",
       "      <th>0</th>\n",
       "      <td>cnn_baseline</td>\n",
       "      <td>0.833818</td>\n",
       "      <td>0.595493</td>\n",
       "      <td>0.696805</td>\n",
       "      <td>0.519901</td>\n",
       "      <td>20.736634</td>\n",
       "    </tr>\n",
       "    <tr>\n",
       "      <th>1</th>\n",
       "      <td>cnn_classWeights</td>\n",
       "      <td>0.805936</td>\n",
       "      <td>0.627312</td>\n",
       "      <td>0.572196</td>\n",
       "      <td>0.694176</td>\n",
       "      <td>17.270849</td>\n",
       "    </tr>\n",
       "    <tr>\n",
       "      <th>2</th>\n",
       "      <td>lstm_baseline</td>\n",
       "      <td>0.839903</td>\n",
       "      <td>0.655117</td>\n",
       "      <td>0.664202</td>\n",
       "      <td>0.646278</td>\n",
       "      <td>17.070774</td>\n",
       "    </tr>\n",
       "    <tr>\n",
       "      <th>3</th>\n",
       "      <td>lstm_classWeights</td>\n",
       "      <td>0.802550</td>\n",
       "      <td>0.647326</td>\n",
       "      <td>0.558272</td>\n",
       "      <td>0.770182</td>\n",
       "      <td>16.892578</td>\n",
       "    </tr>\n",
       "    <tr>\n",
       "      <th>4</th>\n",
       "      <td>gru_baseline</td>\n",
       "      <td>0.845246</td>\n",
       "      <td>0.630822</td>\n",
       "      <td>0.718930</td>\n",
       "      <td>0.561952</td>\n",
       "      <td>15.963573</td>\n",
       "    </tr>\n",
       "    <tr>\n",
       "      <th>5</th>\n",
       "      <td>gru_classWeights</td>\n",
       "      <td>0.822708</td>\n",
       "      <td>0.661481</td>\n",
       "      <td>0.600514</td>\n",
       "      <td>0.736227</td>\n",
       "      <td>15.741524</td>\n",
       "    </tr>\n",
       "    <tr>\n",
       "      <th>6</th>\n",
       "      <td>gru_fastText_hardPreproc</td>\n",
       "      <td>0.841384</td>\n",
       "      <td>0.620218</td>\n",
       "      <td>0.710183</td>\n",
       "      <td>0.550483</td>\n",
       "      <td>19.237489</td>\n",
       "    </tr>\n",
       "    <tr>\n",
       "      <th>7</th>\n",
       "      <td>gru_fastText_hardPreproc_classWeights</td>\n",
       "      <td>0.819480</td>\n",
       "      <td>0.648175</td>\n",
       "      <td>0.598553</td>\n",
       "      <td>0.706769</td>\n",
       "      <td>19.731280</td>\n",
       "    </tr>\n",
       "    <tr>\n",
       "      <th>8</th>\n",
       "      <td>gru_fastText_softPreproc</td>\n",
       "      <td>0.846146</td>\n",
       "      <td>0.651820</td>\n",
       "      <td>0.697055</td>\n",
       "      <td>0.612098</td>\n",
       "      <td>25.665023</td>\n",
       "    </tr>\n",
       "    <tr>\n",
       "      <th>9</th>\n",
       "      <td>gru_fastText_softPreproc_classWeights</td>\n",
       "      <td>0.815830</td>\n",
       "      <td>0.662530</td>\n",
       "      <td>0.582311</td>\n",
       "      <td>0.768383</td>\n",
       "      <td>25.987306</td>\n",
       "    </tr>\n",
       "  </tbody>\n",
       "</table>\n",
       "</div>"
      ],
      "text/plain": [
       "                                   model  accuracy  f1_score  precision  \\\n",
       "0                           cnn_baseline  0.833818  0.595493   0.696805   \n",
       "1                       cnn_classWeights  0.805936  0.627312   0.572196   \n",
       "2                          lstm_baseline  0.839903  0.655117   0.664202   \n",
       "3                      lstm_classWeights  0.802550  0.647326   0.558272   \n",
       "4                           gru_baseline  0.845246  0.630822   0.718930   \n",
       "5                       gru_classWeights  0.822708  0.661481   0.600514   \n",
       "6               gru_fastText_hardPreproc  0.841384  0.620218   0.710183   \n",
       "7  gru_fastText_hardPreproc_classWeights  0.819480  0.648175   0.598553   \n",
       "8               gru_fastText_softPreproc  0.846146  0.651820   0.697055   \n",
       "9  gru_fastText_softPreproc_classWeights  0.815830  0.662530   0.582311   \n",
       "\n",
       "     recall    runtime  \n",
       "0  0.519901  20.736634  \n",
       "1  0.694176  17.270849  \n",
       "2  0.646278  17.070774  \n",
       "3  0.770182  16.892578  \n",
       "4  0.561952  15.963573  \n",
       "5  0.736227  15.741524  \n",
       "6  0.550483  19.237489  \n",
       "7  0.706769  19.731280  \n",
       "8  0.612098  25.665023  \n",
       "9  0.768383  25.987306  "
      ]
     },
     "execution_count": 9,
     "metadata": {},
     "output_type": "execute_result"
    }
   ],
   "source": [
    "df_networks = df.iloc[:10,:]\n",
    "df_networks"
   ]
  },
  {
   "cell_type": "code",
   "execution_count": 10,
   "id": "b18548e2-3cfc-4239-b464-23f11b91ecef",
   "metadata": {},
   "outputs": [
    {
     "data": {
      "text/html": [
       "<div>\n",
       "<style scoped>\n",
       "    .dataframe tbody tr th:only-of-type {\n",
       "        vertical-align: middle;\n",
       "    }\n",
       "\n",
       "    .dataframe tbody tr th {\n",
       "        vertical-align: top;\n",
       "    }\n",
       "\n",
       "    .dataframe thead th {\n",
       "        text-align: right;\n",
       "    }\n",
       "</style>\n",
       "<table border=\"1\" class=\"dataframe\">\n",
       "  <thead>\n",
       "    <tr style=\"text-align: right;\">\n",
       "      <th></th>\n",
       "      <th>model</th>\n",
       "      <th>accuracy</th>\n",
       "      <th>f1_score</th>\n",
       "      <th>precision</th>\n",
       "      <th>recall</th>\n",
       "      <th>runtime</th>\n",
       "    </tr>\n",
       "  </thead>\n",
       "  <tbody>\n",
       "    <tr>\n",
       "      <th>10</th>\n",
       "      <td>bert_cased</td>\n",
       "      <td>0.866864</td>\n",
       "      <td>0.711833</td>\n",
       "      <td>0.726636</td>\n",
       "      <td>0.697622</td>\n",
       "      <td>446.224822</td>\n",
       "    </tr>\n",
       "    <tr>\n",
       "      <th>11</th>\n",
       "      <td>bert_cased_classWeigths</td>\n",
       "      <td>0.856395</td>\n",
       "      <td>0.715364</td>\n",
       "      <td>0.671322</td>\n",
       "      <td>0.765590</td>\n",
       "      <td>508.995694</td>\n",
       "    </tr>\n",
       "    <tr>\n",
       "      <th>12</th>\n",
       "      <td>bert_uncased</td>\n",
       "      <td>0.869032</td>\n",
       "      <td>0.717011</td>\n",
       "      <td>0.730617</td>\n",
       "      <td>0.703903</td>\n",
       "      <td>508.290840</td>\n",
       "    </tr>\n",
       "    <tr>\n",
       "      <th>13</th>\n",
       "      <td>bert_uncased_classWeigths</td>\n",
       "      <td>0.850949</td>\n",
       "      <td>0.719976</td>\n",
       "      <td>0.646104</td>\n",
       "      <td>0.812921</td>\n",
       "      <td>385.988626</td>\n",
       "    </tr>\n",
       "    <tr>\n",
       "      <th>14</th>\n",
       "      <td>bertweet</td>\n",
       "      <td>0.870777</td>\n",
       "      <td>0.738554</td>\n",
       "      <td>0.705930</td>\n",
       "      <td>0.774338</td>\n",
       "      <td>514.048379</td>\n",
       "    </tr>\n",
       "    <tr>\n",
       "      <th>15</th>\n",
       "      <td>bertweet_classWeigths</td>\n",
       "      <td>0.851742</td>\n",
       "      <td>0.725206</td>\n",
       "      <td>0.643926</td>\n",
       "      <td>0.829969</td>\n",
       "      <td>515.918136</td>\n",
       "    </tr>\n",
       "  </tbody>\n",
       "</table>\n",
       "</div>"
      ],
      "text/plain": [
       "                        model  accuracy  f1_score  precision    recall  \\\n",
       "10                 bert_cased  0.866864  0.711833   0.726636  0.697622   \n",
       "11    bert_cased_classWeigths  0.856395  0.715364   0.671322  0.765590   \n",
       "12               bert_uncased  0.869032  0.717011   0.730617  0.703903   \n",
       "13  bert_uncased_classWeigths  0.850949  0.719976   0.646104  0.812921   \n",
       "14                   bertweet  0.870777  0.738554   0.705930  0.774338   \n",
       "15      bertweet_classWeigths  0.851742  0.725206   0.643926  0.829969   \n",
       "\n",
       "       runtime  \n",
       "10  446.224822  \n",
       "11  508.995694  \n",
       "12  508.290840  \n",
       "13  385.988626  \n",
       "14  514.048379  \n",
       "15  515.918136  "
      ]
     },
     "execution_count": 10,
     "metadata": {},
     "output_type": "execute_result"
    }
   ],
   "source": [
    "df_transformers = df.iloc[10:,:]\n",
    "df_transformers"
   ]
  },
  {
   "cell_type": "markdown",
   "id": "e0b4fe76-81da-47be-8139-0077336349e5",
   "metadata": {},
   "source": [
    "In the second table the results for the transformers model are displayed. BERT fine-tuning is explored both from its cased and uncased version; additionally the BERTweet transformers is also tested. All experiments come both in normal and class weigtht training and show that the introduction of class weights is useful to better detect 'clickbait' tweets, at the cost of a reasonable loss in the evaluation metrics. <br />\n",
    "\n",
    "Two different preprocessing functions were used to better clean the text of tweets, suiting the needs of the different architectures (deeper for simple neural networks, softer for transformers). This choice has been taken since for transformers the preprocessing seems to impact less on the performances of the models, due to different motivations. For instance, BERT models uses BPE in the encoding and it can handle the input sequences even though lemmatization or stemming are not applied. <br />\n"
   ]
  },
  {
   "cell_type": "markdown",
   "id": "e825b889-a04b-4214-b712-10582be10a08",
   "metadata": {},
   "source": [
    "## Model comparison"
   ]
  },
  {
   "cell_type": "markdown",
   "id": "a8e13171-a35b-49c6-88df-c52d7011a264",
   "metadata": {},
   "source": [
    "From the results obtained with these experiments, we can observe that the trasnformer models fine-tuned for this task performs better than the CNNs, LSTMs and GRUs networks that have been tested. Most of the times, we can see that with the class weight option helps the models to better capture the 'true clickbait' tweets, at the cost of negatively classifying as clickbaits some of the 'no-clickbait' tweets. This results in the models being slightly more balanced in their predictions, having lower accuracy, but higher f1 score.\n",
    "\n",
    "In particular, the BERTweet model, which is a variation of the ROBERTa model designed to work with tweets data performs best among all models. Its class weighted version does not seems to provide an improvement over the baseline BERTweets, showing lower f1-score and more unbalanced precision and recall metrics. Therefore we consider the tweetbert baseline the best model among the tested architectures.\n",
    "\n",
    "Next, we will center on this model and explore some of the bad and good predictions that are generated. Additionally by analysing the ROC curve of classifier, we search for the optimal threshold and compare the difference among the predictions obtained with the standard threshold of 0.5 and the threshold obtained with this method."
   ]
  },
  {
   "cell_type": "markdown",
   "id": "82d31cbe-ac7d-45dc-91e5-21a0142834ea",
   "metadata": {},
   "source": [
    "### Load Test Dataset"
   ]
  },
  {
   "cell_type": "code",
   "execution_count": 11,
   "id": "e07eec48-eed8-4bd1-a90d-abc1dc9cdae1",
   "metadata": {},
   "outputs": [],
   "source": [
    "# Load dataset\n",
    "filename = '../data/webis_test.csv'\n",
    "test_df = read_data(filename)"
   ]
  },
  {
   "cell_type": "code",
   "execution_count": 12,
   "id": "fbb58608-9e00-452b-8760-eeaeebd2e65a",
   "metadata": {},
   "outputs": [],
   "source": [
    "tokenizer = AutoTokenizer.from_pretrained(\"../trained_models/BERTWEET/bertweet\")\n",
    "model = tf.keras.models.load_model(\"../trained_models/BERTWEET/bertweet\")\n",
    "\n",
    "max_seq_len = 40\n",
    "#Apply same preprocessing and tokenizer to test dataset tweets\n",
    "test_df['cleanedText'] = test_df.postText.apply(lambda x: clean_tweet_for_transformers(x))\n",
    "test_df  = test_df.loc[test_df.cleanedText != '']\n",
    "\n",
    "test_x = tokenizer(\n",
    "    text=test_df['cleanedText'].astype(str).to_list(),\n",
    "    add_special_tokens=True,\n",
    "    max_length=max_seq_len,\n",
    "    truncation=True,\n",
    "    padding=True, \n",
    "    return_tensors='tf',\n",
    "    return_token_type_ids = False,\n",
    "    return_attention_mask = True,\n",
    "    verbose = True)"
   ]
  },
  {
   "cell_type": "markdown",
   "id": "e50c1785-2463-4994-9686-a07bed5f2a60",
   "metadata": {},
   "source": [
    "### Evaluation"
   ]
  },
  {
   "cell_type": "code",
   "execution_count": 13,
   "id": "1db4ad59-9fd8-4a53-9739-2c841a25f494",
   "metadata": {},
   "outputs": [
    {
     "name": "stdout",
     "output_type": "stream",
     "text": [
      "592/592 [==============================] - 33s 56ms/step - loss: 0.2926 - accuracy: 0.8708\n",
      "Test loss: 0.2926306426525116\n",
      "Test accuracy 0.8707767128944397\n",
      "\n",
      "Classification report : \n",
      "               precision    recall  f1-score   support\n",
      "\n",
      "no-clickbait       0.93      0.90      0.91     14455\n",
      "   clickbait       0.71      0.77      0.74      4458\n",
      "\n",
      "    accuracy                           0.87     18913\n",
      "   macro avg       0.82      0.84      0.83     18913\n",
      "weighted avg       0.88      0.87      0.87     18913\n",
      "\n"
     ]
    }
   ],
   "source": [
    "y_test = test_df.label.values\n",
    "##Evaluate CNN model\n",
    "predictions = evaluate_model(model, {'input_ids': test_x['input_ids'], 'attention_mask': test_x['attention_mask']}, y_test, threshold = 0.5)\n",
    "##Get Classification report\n",
    "classes = ['no-clickbait', 'clickbait']\n",
    "print(\"\\nClassification report : \\n\", classification_report(y_test, predictions, zero_division = 0, target_names=classes))"
   ]
  },
  {
   "cell_type": "code",
   "execution_count": 14,
   "id": "d97e5396-cc48-4dcb-a428-dbc1dd53f3af",
   "metadata": {},
   "outputs": [
    {
     "data": {
      "text/plain": [
       "<sklearn.metrics._plot.confusion_matrix.ConfusionMatrixDisplay at 0x7f210c408f90>"
      ]
     },
     "execution_count": 14,
     "metadata": {},
     "output_type": "execute_result"
    },
    {
     "data": {
      "image/png": "[encoded data removed]",
      "text/plain": [
       "<Figure size 432x288 with 2 Axes>"
      ]
     },
     "metadata": {
      "needs_background": "light"
     },
     "output_type": "display_data"
    }
   ],
   "source": [
    "##Get Confusion Matrix\n",
    "cm = confusion_matrix(y_test, predictions)\n",
    "cmd = ConfusionMatrixDisplay(cm, display_labels=classes)\n",
    "cmd.plot()"
   ]
  },
  {
   "cell_type": "markdown",
   "id": "def8357c-6807-4d73-852e-7dc84d4972a2",
   "metadata": {},
   "source": [
    "From the confusion matrix we can deduce that the classifier works quite well for both classes, although its ability to capture 'clickbait' tweets is lower when compared to the capacity of capturing 'no-clickbait' tweets. \n",
    "\n",
    "Next the precision and recall score are quite balanced, meaning that the classifier is considering both the correct classification for both classes and for clickbait tweets as well.\n",
    "\n",
    "Both accuracy and f1 score are the best among all the tested architectures."
   ]
  },
  {
   "cell_type": "code",
   "execution_count": 17,
   "id": "b0a73002-b943-4634-b70d-094a9fec5d8b",
   "metadata": {},
   "outputs": [
    {
     "name": "stdout",
     "output_type": "stream",
     "text": [
      "Accuracy Score:  0.8707767144292285\n",
      "F1 Score:  0.7385537013264869\n",
      "Precision Score:  0.7059304703476482\n",
      "Recall Score:  0.7743382682817407\n"
     ]
    }
   ],
   "source": [
    "accuracy, f1, precision, recall = compute_metrics(y_test, predictions)"
   ]
  },
  {
   "cell_type": "markdown",
   "id": "dc331e8c-c461-46aa-99c5-eeb8e4f51f8a",
   "metadata": {},
   "source": [
    "### Examples fo bad predictions"
   ]
  },
  {
   "cell_type": "code",
   "execution_count": 18,
   "id": "c75fdf00-efc2-4683-929a-bdc3a01e82d0",
   "metadata": {},
   "outputs": [
    {
     "name": "stdout",
     "output_type": "stream",
     "text": [
      "Tweet text:  This 71-year-old grandpa rocks Supreme better than you.\n",
      "Original label:  no-clickbait\n",
      "Predicted label:  [1]\n",
      "\tRelated article:  Meet The 71-Year-Old Grandpa Who Rocks Supreme Harder Than You\n",
      "\n",
      "\n",
      "Tweet text:  How will each Power 5 conference team finish? \n",
      "\n",
      "Full projections:\n",
      "Original label:  clickbait\n",
      "Predicted label:  [0]\n",
      "\tRelated article:  College Football 2017: Projecting the Record of Every Power 5 Conference Team\n",
      "\n",
      "\n",
      "Tweet text:  If you’ve ever wondered what your dog is thinking … this smart collar will help\n",
      "Original label:  no-clickbait\n",
      "Predicted label:  [1]\n",
      "\tRelated article:  If you’ve ever wondered what your dog is thinking … this smart collar will help\n",
      "\n",
      "\n",
      "Tweet text:  “Come with me, your wife is here.” This moment seemed impossible to Mohammed Alqalos just 6 weeks ago.\n",
      "Original label:  no-clickbait\n",
      "Predicted label:  [1]\n",
      "\tRelated article:  Caught Up in Travel Ban, a Family Reunites \n",
      "\n",
      "\n",
      "Tweet text:  Riding the wave: Meet the surfer who helped 7 million people get clean water\n",
      "Original label:  clickbait\n",
      "Predicted label:  [0]\n",
      "\tRelated article:  Meet the Former Pro Surfer Who Has Helped 7 Million People Get Clean Water\n",
      "\n",
      "\n",
      "Tweet text:  North Korea's history of covert operations and secret killings\n",
      "Original label:  clickbait\n",
      "Predicted label:  [0]\n",
      "\tRelated article:  North Korea's history of covert operations and secret killings\n",
      "\n",
      "\n",
      "Tweet text:  The #students were left fighting for their lives following an #experiment that went haywire in March 2015\n",
      "Original label:  clickbait\n",
      "Predicted label:  [0]\n",
      "\tRelated article:  British University Fined £400,000 For Almost Killing Students During 'Coffee Experiment'\n",
      "\n",
      "\n",
      "Tweet text:  This wild geode hair trend is going to be all over Instagram soon\n",
      "Original label:  no-clickbait\n",
      "Predicted label:  [1]\n",
      "\tRelated article:  This Wild Geode Hair Trend Is Going To Be All Over Instagram Soon\n",
      "\n",
      "\n",
      "Tweet text:  The reach for yield is alive and well\n",
      "Original label:  no-clickbait\n",
      "Predicted label:  [1]\n",
      "\tRelated article:  Bond Buying Surges, Tightening U.S. Corporate Spreads\n",
      "\n",
      "\n",
      "Tweet text:  One bettor is 13 minutes away from winning $1 million on his $1.1 million Falcons bet:\n",
      "Original label:  clickbait\n",
      "Predicted label:  [0]\n",
      "\tRelated article:  $1.1 million wager placed on underdog Falcons\n",
      "\n",
      "\n",
      "Tweet text:  Everything you need to know about the anarchist tactics behind that viral nazi-punch\n",
      "Original label:  no-clickbait\n",
      "Predicted label:  [1]\n",
      "\tRelated article:  Everything You Need to Know About the Anarchist Tactics Behind That Viral Nazi-Punch\n",
      "\n",
      "\n",
      "Tweet text:  This Missy Elliott lyric from 2002 has the internet in shambles\n",
      "Original label:  no-clickbait\n",
      "Predicted label:  [1]\n",
      "\tRelated article:  This Missy Elliott Lyric From 2002 Shakes The Internet\n",
      "\n",
      "\n",
      "Tweet text:  Here's how to improve your upward-facing dog in yoga class  via @NBCNewsBETTER\n",
      "Original label:  no-clickbait\n",
      "Predicted label:  [1]\n",
      "\tRelated article:  Do It Better: Improve Your Upward-Facing Dog in Yoga\n",
      "\n",
      "\n",
      "Tweet text:  A giant Donald Trump rooster is the new mascot of a mall in China\n",
      "Original label:  clickbait\n",
      "Predicted label:  [0]\n",
      "\tRelated article:  Trump rooster statue erected in China\n",
      "\n",
      "\n",
      "Tweet text:  Trump administration hits small farmers with more bad news ➡️  by @robojojo\n",
      "Original label:  clickbait\n",
      "Predicted label:  [0]\n",
      "\tRelated article:  Trump Administration Hits Small Farmers With More Bad News\n",
      "\n",
      "\n"
     ]
    }
   ],
   "source": [
    "y_test = test_df.label.values\n",
    "raw_predictions = model.predict({'input_ids': test_x['input_ids'], 'attention_mask': test_x['attention_mask']},)\n",
    "predictions_standard = np.where(raw_predictions > 0.5, 1, 0)\n",
    "\n",
    "indexes = []\n",
    "for index, (p1, y) in enumerate(zip(predictions_standard, y_test)):\n",
    "    if p1 != y:\n",
    "        #print(p1, y)\n",
    "        indexes.append(index)\n",
    "        \n",
    "test_df['predictedClass'] = [x for x in predictions_standard]\n",
    "wrong_predictions = test_df.iloc[indexes].sample(n=15)\n",
    "\n",
    "for i, obs in enumerate(wrong_predictions.iterrows()):\n",
    "    print('Tweet text: ',obs[1].postText)\n",
    "    print('Original label: ', obs[1].truthClass)\n",
    "    print('Predicted label: ', obs[1].predictedClass)\n",
    "    print('\\tRelated article: ',obs[1].targetTitle)\n",
    "    print('\\n')"
   ]
  },
  {
   "cell_type": "markdown",
   "id": "0c9ae7c6-c955-4309-9cf7-6ccaf7c9f925",
   "metadata": {},
   "source": [
    "### Examples fo good predictions"
   ]
  },
  {
   "cell_type": "code",
   "execution_count": 19,
   "id": "26a830d1-9386-4396-8920-3a9549e989c5",
   "metadata": {},
   "outputs": [
    {
     "name": "stdout",
     "output_type": "stream",
     "text": [
      "Tweet text:  You can now order Plan B on Seamless\n",
      "Original label:  no-clickbait\n",
      "Predicted label:  [0]\n",
      "\tRelated article:  You Can Now Order Plan B On Seamless\n",
      "\n",
      "\n",
      "Tweet text:  Opinion: Stop obsessing over \"secrets\" about Trump and Russia. What we already know is bad enough.\n",
      "Original label:  no-clickbait\n",
      "Predicted label:  [0]\n",
      "\tRelated article:  Stop obsessing over ‘secrets’ about Trump and Russia. What we already know is bad enough.\n",
      "\n",
      "\n",
      "Tweet text:  A Danish doctors association wants to end circumcision for boys, saying men should make the decision as adults\n",
      "Original label:  no-clickbait\n",
      "Predicted label:  [0]\n",
      "\tRelated article:  Danish Doctors’ Group Wants to End Circumcision for Boys \n",
      "\n",
      "\n",
      "Tweet text:  Starbucks pledges to hire 10,000 refugees\n",
      "Original label:  no-clickbait\n",
      "Predicted label:  [0]\n",
      "\tRelated article:  Starbucks pledges to hire 10,000 refugees\n",
      "\n",
      "\n",
      "Tweet text:  Fury over India flag doormats for sale on Amazon\n",
      "Original label:  no-clickbait\n",
      "Predicted label:  [0]\n",
      "\tRelated article:  Fury over India flag doormats for sale on Amazon\n",
      "\n",
      "\n",
      "Tweet text:  You don't say.\n",
      "Original label:  clickbait\n",
      "Predicted label:  [1]\n",
      "\tRelated article:  Suicide Terrorism Across the Globe Hits Record High in 2016\n",
      "\n",
      "\n",
      "Tweet text:  Royal Mail union warns of industrial action over pension scheme closure\n",
      "Original label:  no-clickbait\n",
      "Predicted label:  [0]\n",
      "\tRelated article:  Royal Mail union warns of industrial action over pension scheme closure\n",
      "\n",
      "\n",
      "Tweet text:  Here’s a complete guide for rewatching Twin Peaks, before it returns May 21\n",
      "Original label:  no-clickbait\n",
      "Predicted label:  [0]\n",
      "\tRelated article:  Your Complete Guide to Rewatching ‘Twin Peaks’ - NYT Watching Search\n",
      "\n",
      "\n",
      "Tweet text:  Young Thug is being sued by a limo service:\n",
      "Original label:  no-clickbait\n",
      "Predicted label:  [0]\n",
      "\tRelated article:  Young Thug Is Being Sued By A Limo Service\n",
      "\n",
      "\n",
      "Tweet text:  Living under flightpath roar 'may cause diabetes'\n",
      "Original label:  no-clickbait\n",
      "Predicted label:  [0]\n",
      "\tRelated article:  Living under flightpath roar 'may cause diabetes': Scientists say residents who are exposed to daily aircraft noise are 86 per cent more likely to have the type 2 condition  \n",
      "\n",
      "\n",
      "Tweet text:  George Orwell’s \"1984\" back on bestseller list following \"alternative facts\"\n",
      "Original label:  no-clickbait\n",
      "Predicted label:  [0]\n",
      "\tRelated article:  Sales of Orwell’s Dystopian Classic ‘1984’ Soar After Trump Claims, ‘Alternative Facts’\n",
      "\n",
      "\n",
      "Tweet text:  People are ticked that Rory McIlroy played golf with Donald Trump\n",
      "Original label:  no-clickbait\n",
      "Predicted label:  [0]\n",
      "\tRelated article:  People Are Ticked That Rory McIlroy Played Golf With Donald Trump\n",
      "\n",
      "\n",
      "Tweet text:  Why the EQT is going to be the Adidas sneaker of 2017:\n",
      "Original label:  clickbait\n",
      "Predicted label:  [1]\n",
      "\tRelated article:  Why the EQT Is Going to Be the Adidas Sneaker of 2017\n",
      "\n",
      "\n",
      "Tweet text:  An Abortion Is Not Out Of The Question For “Gilmore Girls”\n",
      "Original label:  no-clickbait\n",
      "Predicted label:  [0]\n",
      "\tRelated article:  Amy Sherman-Palladino And Daniel Palladino Are Standing By The Final Four Words In “Gilmore Girls”\n",
      "\n",
      "\n",
      "Tweet text:  Wanna know how your team does? We got you.\n",
      "\n",
      "Our NFL FB Live Draft Show kicks off now🎥:\n",
      "Original label:  no-clickbait\n",
      "Predicted label:  [0]\n",
      "\tRelated article:  Facebook Live: 2017 NFL Draft Round 1 Live Grades and Reaction\n",
      "\n",
      "\n"
     ]
    }
   ],
   "source": [
    "y_test = test_df.label.values\n",
    "predictions_standard = np.where(raw_predictions > 0.5, 1, 0)\n",
    "\n",
    "indexes = []\n",
    "for index, (p1, y) in enumerate(zip(predictions_standard, y_test)):\n",
    "    if p1 == y:\n",
    "        #print(p1, y)\n",
    "        indexes.append(index)\n",
    "        \n",
    "test_df['predictedClass'] = [x for x in predictions_standard]\n",
    "wrong_predictions = test_df.iloc[indexes].sample(n=15)\n",
    "\n",
    "for i, obs in enumerate(wrong_predictions.iterrows()):\n",
    "    print('Tweet text: ',obs[1].postText)\n",
    "    print('Original label: ', obs[1].truthClass)\n",
    "    print('Predicted label: ', obs[1].predictedClass)\n",
    "    print('\\tRelated article: ',obs[1].targetTitle)\n",
    "    print('\\n')"
   ]
  },
  {
   "cell_type": "markdown",
   "id": "75413a5c-97c4-4260-a839-3bf86cfdae92",
   "metadata": {},
   "source": [
    "# ROC curve"
   ]
  },
  {
   "cell_type": "markdown",
   "id": "031932f5-cd2a-4d77-8f4c-0425a057b5ed",
   "metadata": {},
   "source": [
    "This sections analyses the ROC curve in order to see if a better threshold for the model predictions can be found and how models predictions changes consequently. \n",
    "The ROC curve consists in a graph that shows the performances of the classifier across several threshold values. This can provide a better understanding of how the model can be tuned, depending on how we want to favour actual clickbait detection rather than no-clickbait correct classification.\n",
    "\n",
    "For that, we have to import the ground truth labels and the predictions first."
   ]
  },
  {
   "cell_type": "code",
   "execution_count": 20,
   "id": "d11b5191-f2e7-476b-8649-d72a5f282388",
   "metadata": {},
   "outputs": [
    {
     "name": "stdout",
     "output_type": "stream",
     "text": [
      "(array([0.        , 0.        , 0.        , ..., 0.98858526, 0.98872363,\n",
      "       1.        ]), array([0.00000000e+00, 2.24315837e-04, 6.72947510e-04, ...,\n",
      "       1.00000000e+00, 1.00000000e+00, 1.00000000e+00]), array([1.979873  , 0.97987294, 0.97976905, ..., 0.0045189 , 0.0045145 ,\n",
      "       0.00303396], dtype=float32))\n"
     ]
    },
    {
     "data": {
      "image/png": "[encoded data removed]",
      "text/plain": [
       "<Figure size 432x288 with 1 Axes>"
      ]
     },
     "metadata": {
      "needs_background": "light"
     },
     "output_type": "display_data"
    },
    {
     "name": "stdout",
     "output_type": "stream",
     "text": [
      "Best Threshold=0.289161\n"
     ]
    }
   ],
   "source": [
    "#raw_predictions = model.predict({'input_ids': test_x['input_ids'], 'attention_mask': test_x['attention_mask']})\n",
    "fpr = dict()\n",
    "tpr = dict()\n",
    "roc_auc = dict()\n",
    "for i in range(2):\n",
    "    fpr[i], tpr[i], _ = roc_curve(y_test, raw_predictions)\n",
    "    roc_auc[i] = auc(fpr[i], tpr[i])\n",
    "\n",
    "print(roc_curve(y_test, raw_predictions))\n",
    "plt.figure()\n",
    "plt.plot(fpr[1], tpr[1])\n",
    "plt.xlim([0.0, 1.0])\n",
    "plt.ylim([0.0, 1.05])\n",
    "plt.xlabel('False Positive Rate')\n",
    "plt.ylabel('True Positive Rate')\n",
    "plt.title('ROC curve')\n",
    "plt.show()\n",
    "\n",
    "# calculate roc curves\n",
    "fpr, tpr, thresholds = roc_curve(y_test, raw_predictions)\n",
    "# get the best threshold\n",
    "diff = tpr - fpr\n",
    "indexes = np.argmax(diff)\n",
    "best_thresh = thresholds[indexes]\n",
    "print('Best Threshold=%f' % (best_thresh))"
   ]
  },
  {
   "cell_type": "code",
   "execution_count": 21,
   "id": "b14d139b-bd2a-446f-8da5-20a4bedca75e",
   "metadata": {},
   "outputs": [
    {
     "name": "stdout",
     "output_type": "stream",
     "text": [
      "ROC AUC: 0.8374\n"
     ]
    }
   ],
   "source": [
    "score = roc_auc_score(y_test, predictions)\n",
    "print(f\"ROC AUC: {score:.4f}\")"
   ]
  },
  {
   "cell_type": "markdown",
   "id": "99b7eeb8-0031-4b59-92cd-b9e4f423b9fe",
   "metadata": {},
   "source": [
    "The ROC helps is a plot of the False Positive Rate (x-axis) versus the True Positive Rate (y-axis) for several threshold values (between (0,1)) and it helps to analyse how the efficiency of Binary Classifier.\n",
    "The best threshold depends on the objective of the model application and it is important to establish if it is more important to have all positives classified as positive (in this case clickait tweets), even if it means misclassifying some non clickbait tweets as clickbaits. <br />\n",
    "\n",
    "In this context, the ROC curve its quite good since it has a good balance between TPR and FPR, also known and sensitivity and specificity. The greater the area the better. "
   ]
  },
  {
   "cell_type": "code",
   "execution_count": 22,
   "id": "686065de-2df2-48f0-9479-b741375c582c",
   "metadata": {},
   "outputs": [
    {
     "name": "stdout",
     "output_type": "stream",
     "text": [
      "\n",
      "Classification report : \n",
      "               precision    recall  f1-score   support\n",
      "\n",
      "no-clickbait       0.96      0.83      0.89     14455\n",
      "   clickbait       0.62      0.87      0.72      4458\n",
      "\n",
      "    accuracy                           0.84     18913\n",
      "   macro avg       0.79      0.85      0.81     18913\n",
      "weighted avg       0.88      0.84      0.85     18913\n",
      "\n"
     ]
    }
   ],
   "source": [
    "predictions =np.where(raw_predictions > best_thresh, 1, 0)\n",
    "print(\"\\nClassification report : \\n\", classification_report(y_test, predictions, zero_division = 0, target_names=classes))"
   ]
  },
  {
   "cell_type": "code",
   "execution_count": 23,
   "id": "31caea96-40ac-417b-9acd-e8d4573188fb",
   "metadata": {},
   "outputs": [
    {
     "data": {
      "text/plain": [
       "<sklearn.metrics._plot.confusion_matrix.ConfusionMatrixDisplay at 0x7f20d45c47d0>"
      ]
     },
     "execution_count": 23,
     "metadata": {},
     "output_type": "execute_result"
    },
    {
     "data": {
      "image/png": "[encoded data removed]",
      "text/plain": [
       "<Figure size 432x288 with 2 Axes>"
      ]
     },
     "metadata": {
      "needs_background": "light"
     },
     "output_type": "display_data"
    }
   ],
   "source": [
    "##Get Confusion Matrix\n",
    "cm = confusion_matrix(y_test, predictions)\n",
    "cmd = ConfusionMatrixDisplay(cm, display_labels=classes)\n",
    "cmd.plot()"
   ]
  },
  {
   "cell_type": "code",
   "execution_count": 24,
   "id": "540fe8e3-d18d-4bd9-b6f8-071a669b6075",
   "metadata": {},
   "outputs": [
    {
     "name": "stdout",
     "output_type": "stream",
     "text": [
      "Accuracy Score:  0.8421720509702321\n",
      "F1 Score:  0.7231240144699007\n",
      "Precision Score:  0.6164795192155622\n",
      "Recall Score:  0.8743831314490803\n"
     ]
    }
   ],
   "source": [
    "accuracy, f1, precision, recall = compute_metrics(y_test, predictions)"
   ]
  },
  {
   "cell_type": "code",
   "execution_count": 25,
   "id": "b31bbb62-b64d-4620-b414-f8ee127a8421",
   "metadata": {},
   "outputs": [
    {
     "name": "stdout",
     "output_type": "stream",
     "text": [
      "ROC AUC: 0.8533\n"
     ]
    }
   ],
   "source": [
    "score = roc_auc_score(y_test, predictions)\n",
    "print(f\"ROC AUC: {score:.4f}\")"
   ]
  },
  {
   "cell_type": "markdown",
   "id": "d0a28b33-81b5-428a-9fc0-d75d0be57929",
   "metadata": {},
   "source": [
    "By applying the new threshold the model do detect more clickbait tweets, but the general performances drop thus meaning that more no-clickbai\n",
    "\n",
    "In the following part we will explore how predictions changes when adopting the new threshold suggest by the minimizationg of the difference between True Positive Rate and False Positive Rate. <br />\n",
    "More precisely, some random examples are selected from: <br />\n",
    "* tweets that are classified as 'clickbait' and are indeed 'clickbait' <br />\n",
    "* tweets that are misclassified as 'clickbait' being 'no-clickbait' <br />"
   ]
  },
  {
   "cell_type": "code",
   "execution_count": 26,
   "id": "e4943f7d-0e85-41bc-acfb-fcb275ced71b",
   "metadata": {},
   "outputs": [],
   "source": [
    "predictions_threshold =np.where(raw_predictions > best_thresh, 1, 0)\n",
    "predictions_standard = np.where(raw_predictions > 0.5, 1, 0)\n"
   ]
  },
  {
   "cell_type": "markdown",
   "id": "c01c722f-eea9-4375-b004-6c5030697a2f",
   "metadata": {},
   "source": [
    "### Clickbait detected by new threshold"
   ]
  },
  {
   "cell_type": "code",
   "execution_count": 27,
   "id": "84234c1b-ff29-47e1-a7f9-9fb59335b699",
   "metadata": {},
   "outputs": [
    {
     "name": "stdout",
     "output_type": "stream",
     "text": [
      "Tweet text:  Remembering the moments that turned Charlie Murphy into a comedy legend\n",
      "Original label:  clickbait\n",
      "Predicted label - 0.5:  [0]\n",
      "Predicted label - 0.28:  [1]\n",
      "\tRelated article:  The Moments That Turned Charlie Murphy Into a Comedy Legend\n",
      "\n",
      "\n",
      "Tweet text:  Trump's tech policy remains a mystery\n",
      "Original label:  clickbait\n",
      "Predicted label - 0.5:  [0]\n",
      "Predicted label - 0.28:  [1]\n",
      "\tRelated article:  President Trump's tech policy is a mystery\n",
      "\n",
      "\n",
      "Tweet text:  Lab notes: throw your hands in the air like you just don't care\n",
      "Original label:  clickbait\n",
      "Predicted label - 0.5:  [0]\n",
      "Predicted label - 0.28:  [1]\n",
      "\tRelated article:  Lab notes: throw your hands in the air like you just don't care\n",
      "\n",
      "\n",
      "Tweet text:  Puff, puff, pass: @WizKhalifa's highest lyrics\n",
      "Original label:  clickbait\n",
      "Predicted label - 0.5:  [0]\n",
      "Predicted label - 0.28:  [1]\n",
      "\tRelated article:  Puff, Puff, Pass: Wiz Khalifa's Highest Lyrics\n",
      "\n",
      "\n",
      "Tweet text:  The best employer in Canada is an institution older than the country itself. See the list:\n",
      "Original label:  clickbait\n",
      "Predicted label - 0.5:  [0]\n",
      "Predicted label - 0.28:  [1]\n",
      "\tRelated article:  Canada's Best Employers 2017\n",
      "\n",
      "\n",
      "Tweet text:  Spoiler alert: Kawhi Leonard is his MVP.\n",
      "Original label:  clickbait\n",
      "Predicted label - 0.5:  [0]\n",
      "Predicted label - 0.28:  [1]\n",
      "\tRelated article:  NBA awards, Part 1: MVP, ROY, COY, DPOY, Sixth Man, MIP\n",
      "\n",
      "\n",
      "Tweet text:  The Fast &amp; Furious 8 trailer is absolutely bananas\n",
      "Original label:  clickbait\n",
      "Predicted label - 0.5:  [0]\n",
      "Predicted label - 0.28:  [1]\n",
      "\tRelated article:  Fast and Furious 8 trailer: The Fate of the Furious looks totally bananas\n",
      "\n",
      "\n",
      "Tweet text:  Even Donald Trump can't save Twitter--Ahead of the Tape\n",
      "Original label:  clickbait\n",
      "Predicted label - 0.5:  [0]\n",
      "Predicted label - 0.28:  [1]\n",
      "\tRelated article:  Even Donald Trump Can’t Save Twitter \n",
      "\n",
      "\n",
      "Tweet text:  PewDiePie isn’t a monster; he’s someone you know\n",
      "Original label:  clickbait\n",
      "Predicted label - 0.5:  [0]\n",
      "Predicted label - 0.28:  [1]\n",
      "\tRelated article:  The Downfall Of YouTube’s Biggest Star Is A Symptom Of A Bigger Illness\n",
      "\n",
      "\n",
      "Tweet text:  JPMorgan ChaseVoice: Leadership lessons from the CEO of JPMorgan Chase\n",
      "Original label:  clickbait\n",
      "Predicted label - 0.5:  [0]\n",
      "Predicted label - 0.28:  [1]\n",
      "\tRelated article:  JPMorgan ChaseVoice: Leadership Lessons From The CEO Of JPMorgan Chase\n",
      "\n",
      "\n",
      "Tweet text:  Someone just won the $435 million Powerball lottery\n",
      "Original label:  clickbait\n",
      "Predicted label - 0.5:  [0]\n",
      "Predicted label - 0.28:  [1]\n",
      "\tRelated article:  Winning Powerball Ticket Worth $435 Million Sold In Indiana\n",
      "\n",
      "\n",
      "Tweet text:  Last year we envisaged President Trump and Brexit.\n",
      "\n",
      "Now here's a pessimist's guide to 2017:\n",
      "Original label:  clickbait\n",
      "Predicted label - 0.5:  [0]\n",
      "Predicted label - 0.28:  [1]\n",
      "\tRelated article:  The Pessimist’s Guide to 2017\n",
      "\n",
      "\n",
      "Tweet text:  The person running Sweden's Twitter account is factchecking Trump and it's not pretty\n",
      "Original label:  clickbait\n",
      "Predicted label - 0.5:  [0]\n",
      "Predicted label - 0.28:  [1]\n",
      "\tRelated article:  Sweden’s official Twitter account debunks Donald Trump claims line by line\n",
      "\n",
      "\n",
      "Tweet text:  The world needs more fathers like them 😇🙌\n",
      "Original label:  clickbait\n",
      "Predicted label - 0.5:  [0]\n",
      "Predicted label - 0.28:  [1]\n",
      "\tRelated article:  9 Dads Who Are Literally Superhumans, The Sort That The World Really Needs\n",
      "\n",
      "\n",
      "Tweet text:  Not one movie rooted in real life was among 2016's top 10 box office performers\n",
      "Original label:  clickbait\n",
      "Predicted label - 0.5:  [0]\n",
      "Predicted label - 0.28:  [1]\n",
      "\tRelated article:  Reality? No, Thanks. Moviegoers Sought Escape in 2016. \n",
      "\n",
      "\n"
     ]
    }
   ],
   "source": [
    "indexes = []\n",
    "for index, (p1, p2, y) in enumerate(zip(predictions_standard,predictions_threshold, y_test)):\n",
    "    if p1 != p2 and y == 1.0:\n",
    "        #print(index, p1, p2, y)\n",
    "        indexes.append(index)\n",
    "\n",
    "test_df['predictedClass'] = [x for x in predictions_standard]\n",
    "test_df['predictedClass_threshold'] = [x for x in predictions_threshold]\n",
    "clickait_detected_by_threshold = test_df.iloc[indexes].sample(n=15)\n",
    "\n",
    "for i, obs in enumerate(clickait_detected_by_threshold.iterrows()):\n",
    "    print('Tweet text: ',obs[1].postText)\n",
    "    print('Original label: ', obs[1].truthClass)\n",
    "    print('Predicted label - 0.5: ', obs[1].predictedClass)\n",
    "    print('Predicted label - '+str(best_thresh)[:4]+': ', obs[1].predictedClass_threshold)\n",
    "    print('\\tRelated article: ',obs[1].targetTitle)\n",
    "    print('\\n')\n",
    "    "
   ]
  },
  {
   "cell_type": "markdown",
   "id": "071e4ab6-0b30-451f-a2ae-3e9dbb57380a",
   "metadata": {},
   "source": [
    "### No-Clickbait misclassified by new threshold"
   ]
  },
  {
   "cell_type": "code",
   "execution_count": 28,
   "id": "d3a55a75-0993-48b2-857d-5dc7bbd7d462",
   "metadata": {},
   "outputs": [
    {
     "name": "stdout",
     "output_type": "stream",
     "text": [
      "Tweet text:  New year, new architecture: 2017's most anticipated building openings\n",
      "Original label:  no-clickbait\n",
      "Predicted label - 0.5:  [0]\n",
      "Predicted label - 0.28:  [1]\n",
      "\tRelated article:  New year, new buildings: 2017's most anticipated openings\n",
      "\n",
      "\n",
      "Tweet text:  High school kid becomes viral sensation after refusing to run from hail storm\n",
      "Original label:  no-clickbait\n",
      "Predicted label - 0.5:  [0]\n",
      "Predicted label - 0.28:  [1]\n",
      "\tRelated article:  High school kid becomes viral sensation after refusing to run from hail storm\n",
      "\n",
      "\n",
      "Tweet text:  The moment Russian model Viktoria Odintsova risks her life in daredevil Dubai photoshoot\n",
      "Original label:  no-clickbait\n",
      "Predicted label - 0.5:  [0]\n",
      "Predicted label - 0.28:  [1]\n",
      "\tRelated article:  The moment Russian model Viki Odintcova risks her life in daredevil Dubai photoshoot\n",
      "\n",
      "\n",
      "Tweet text:  Appease or oppose? How the world's nations are reacting to Trump\n",
      "Original label:  no-clickbait\n",
      "Predicted label - 0.5:  [0]\n",
      "Predicted label - 0.28:  [1]\n",
      "\tRelated article:  Appease or oppose? How the world's nations are reacting to Trump\n",
      "\n",
      "\n",
      "Tweet text:  Controversial study claims monogamy may NOT be the best approach for human relationships\n",
      "Original label:  no-clickbait\n",
      "Predicted label - 0.5:  [0]\n",
      "Predicted label - 0.28:  [1]\n",
      "\tRelated article:  Controversial study claims monogamy may NOT be the best approach for human relationships and is based on 'flawed science'\n",
      "\n",
      "\n",
      "Tweet text:  Snap has few challenges to overcome. The biggest: its home base\n",
      "Original label:  no-clickbait\n",
      "Predicted label - 0.5:  [0]\n",
      "Predicted label - 0.28:  [1]\n",
      "\tRelated article:  Venice Is The Most Surprising Reason To Skip Snap's IPO\n",
      "\n",
      "\n",
      "Tweet text:  How Snapchat's first investor found Snapchat when it had less than 100,000 users\n",
      "Original label:  no-clickbait\n",
      "Predicted label - 0.5:  [0]\n",
      "Predicted label - 0.28:  [1]\n",
      "\tRelated article:  How Snapchat's first investor found Snapchat when it had less than 100,000 users\n",
      "\n",
      "\n",
      "Tweet text:  Fears around gender-neutral toilets are all in the mind | Paris Lees\n",
      "Original label:  no-clickbait\n",
      "Predicted label - 0.5:  [0]\n",
      "Predicted label - 0.28:  [1]\n",
      "\tRelated article:  Fears around gender-neutral toilets are all in the mind\n",
      "\n",
      "\n",
      "Tweet text:  How much credit does Donald Trump deserve for Dow rally?\n",
      "Original label:  no-clickbait\n",
      "Predicted label - 0.5:  [0]\n",
      "Predicted label - 0.28:  [1]\n",
      "\tRelated article:  How much credit does Donald Trump deserve for Dow rally?\n",
      "\n",
      "\n",
      "Tweet text:  Absolutely phenomenal. Scientists turn spinach leaf into working heart tissue\n",
      "Original label:  no-clickbait\n",
      "Predicted label - 0.5:  [0]\n",
      "Predicted label - 0.28:  [1]\n",
      "\tRelated article:  Scientists turn spinach leaf into working heart tissue\n",
      "\n",
      "\n",
      "Tweet text:  Review: Hey, hey, it’s the Monkees!\n",
      "Original label:  no-clickbait\n",
      "Predicted label - 0.5:  [0]\n",
      "Predicted label - 0.28:  [1]\n",
      "\tRelated article:  Hey, hey, it’s the Monkees!\n",
      "\n",
      "\n",
      "Tweet text:  Our 2017 Tax Guide is here:\n",
      "Original label:  no-clickbait\n",
      "Predicted label - 0.5:  [0]\n",
      "Predicted label - 0.28:  [1]\n",
      "\tRelated article:  The Forbes 2017 Tax Guide\n",
      "\n",
      "\n",
      "Tweet text:  How can Peru prevent more devastating floods and landslides? – via @GuardianGDP\n",
      "Original label:  no-clickbait\n",
      "Predicted label - 0.5:  [0]\n",
      "Predicted label - 0.28:  [1]\n",
      "\tRelated article:  How can Peru prepare to withstand more devastating floods and landslides?\n",
      "\n",
      "\n",
      "Tweet text:  Woman jailed for playing Ed Sheeran song on repeat at top volume\n",
      "Original label:  no-clickbait\n",
      "Predicted label - 0.5:  [0]\n",
      "Predicted label - 0.28:  [1]\n",
      "\tRelated article:  Woman jailed for playing Ed Sheeran song 'Shape of You' on repeat at top volume\n",
      "\n",
      "\n",
      "Tweet text:  The first pregnant British man announces he is with child\n",
      "Original label:  no-clickbait\n",
      "Predicted label - 0.5:  [0]\n",
      "Predicted label - 0.28:  [1]\n",
      "\tRelated article:  Meet the first British man to get pregnant The list\n",
      "\n",
      "\n"
     ]
    }
   ],
   "source": [
    "indexes = []\n",
    "for index, (p1, p2, y) in enumerate(zip(predictions_standard,predictions_threshold, y_test)):\n",
    "    if p1 != p2 and y == 0.0:\n",
    "        #print(index, p1, p2, y)\n",
    "        indexes.append(index)\n",
    "    \n",
    "clickait_detected_by_threshold = test_df.iloc[indexes].sample(n=15)\n",
    "for i, obs in enumerate(clickait_detected_by_threshold.iterrows()):\n",
    "    print('Tweet text: ',obs[1].postText)\n",
    "    print('Original label: ', obs[1].truthClass)\n",
    "    print('Predicted label - 0.5: ', obs[1].predictedClass)\n",
    "    print('Predicted label - '+str(best_thresh)[:4]+': ', obs[1].predictedClass_threshold)\n",
    "    print('\\tRelated article: ',obs[1].targetTitle)\n",
    "    print('\\n')\n",
    "    \n"
   ]
  }
 ],
 "metadata": {
  "kernelspec": {
   "display_name": "Python [conda env:.conda-clickbait_detection]",
   "language": "python",
   "name": "conda-env-.conda-clickbait_detection-py"
  },
  "language_info": {
   "codemirror_mode": {
    "name": "ipython",
    "version": 3
   },
   "file_extension": ".py",
   "mimetype": "text/x-python",
   "name": "python",
   "nbconvert_exporter": "python",
   "pygments_lexer": "ipython3",
   "version": "3.7.11"
  }
 },
 "nbformat": 4,
 "nbformat_minor": 5
}
